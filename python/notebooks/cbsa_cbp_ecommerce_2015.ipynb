{
 "cells": [
  {
   "cell_type": "code",
   "execution_count": 5,
   "metadata": {},
   "outputs": [
    {
     "name": "stdout",
     "output_type": "stream",
     "text": [
      "python version  3.6.0\n",
      "numpy version  1.11.3\n",
      "pandas version  0.20.1\n"
     ]
    }
   ],
   "source": [
    "import pandas as pd\n",
    "import numpy as np\n",
    "import sys\n",
    "\n",
    "version = \".\".join(map(str, sys.version_info[:3]))\n",
    "print('python version ', version)\n",
    "print('numpy version ', np.__version__)\n",
    "print('pandas version ',pd.__version__)"
   ]
  },
  {
   "cell_type": "code",
   "execution_count": 6,
   "metadata": {},
   "outputs": [
    {
     "name": "stdout",
     "output_type": "stream",
     "text": [
      "geopandas version  0.2+52.ge5f5eac\n"
     ]
    }
   ],
   "source": [
    "import geopandas as gpd\n",
    "import pysal\n",
    "\n",
    "print(\"geopandas version \", gpd.__version__)"
   ]
  },
  {
   "cell_type": "code",
   "execution_count": 48,
   "metadata": {},
   "outputs": [],
   "source": [
    "import matplotlib.pyplot as plt"
   ]
  },
  {
   "cell_type": "code",
   "execution_count": 7,
   "metadata": {
    "collapsed": true
   },
   "outputs": [],
   "source": [
    "# Tell the kernel that we want the plots to be in this notebook\n",
    "# and not in an external window\n",
    "%matplotlib inline"
   ]
  },
  {
   "cell_type": "code",
   "execution_count": 8,
   "metadata": {},
   "outputs": [
    {
     "name": "stdout",
     "output_type": "stream",
     "text": [
      "\u001b[0m\u001b[01;34mCBP\u001b[0m/  \u001b[01;34mPEP_2016_GCTPEPANNR.US23PR\u001b[0m/\r\n"
     ]
    }
   ],
   "source": [
    "ls ../../data/census"
   ]
  },
  {
   "cell_type": "code",
   "execution_count": 26,
   "metadata": {},
   "outputs": [
    {
     "name": "stdout",
     "output_type": "stream",
     "text": [
      "rows, columns  (2126601, 26)\n"
     ]
    },
    {
     "data": {
      "text/html": [
       "<div>\n",
       "<style>\n",
       "    .dataframe thead tr:only-child th {\n",
       "        text-align: right;\n",
       "    }\n",
       "\n",
       "    .dataframe thead th {\n",
       "        text-align: left;\n",
       "    }\n",
       "\n",
       "    .dataframe tbody tr th {\n",
       "        vertical-align: top;\n",
       "    }\n",
       "</style>\n",
       "<table border=\"1\" class=\"dataframe\">\n",
       "  <thead>\n",
       "    <tr style=\"text-align: right;\">\n",
       "      <th></th>\n",
       "      <th>FIPSTATE</th>\n",
       "      <th>FIPSCTY</th>\n",
       "      <th>NAICS</th>\n",
       "      <th>EMPFLAG</th>\n",
       "      <th>EMP_NF</th>\n",
       "      <th>EMP</th>\n",
       "      <th>QP1_NF</th>\n",
       "      <th>QP1</th>\n",
       "      <th>AP_NF</th>\n",
       "      <th>AP</th>\n",
       "      <th>...</th>\n",
       "      <th>N100_249</th>\n",
       "      <th>N250_499</th>\n",
       "      <th>N500_999</th>\n",
       "      <th>N1000</th>\n",
       "      <th>N1000_1</th>\n",
       "      <th>N1000_2</th>\n",
       "      <th>N1000_3</th>\n",
       "      <th>N1000_4</th>\n",
       "      <th>CENSTATE</th>\n",
       "      <th>CENCTY</th>\n",
       "    </tr>\n",
       "  </thead>\n",
       "  <tbody>\n",
       "    <tr>\n",
       "      <th>0</th>\n",
       "      <td>01</td>\n",
       "      <td>001</td>\n",
       "      <td>------</td>\n",
       "      <td>NaN</td>\n",
       "      <td>G</td>\n",
       "      <td>10454</td>\n",
       "      <td>G</td>\n",
       "      <td>76437</td>\n",
       "      <td>G</td>\n",
       "      <td>321433</td>\n",
       "      <td>...</td>\n",
       "      <td>6</td>\n",
       "      <td>2</td>\n",
       "      <td>1</td>\n",
       "      <td>0</td>\n",
       "      <td>0</td>\n",
       "      <td>0</td>\n",
       "      <td>0</td>\n",
       "      <td>0</td>\n",
       "      <td>63</td>\n",
       "      <td>1</td>\n",
       "    </tr>\n",
       "    <tr>\n",
       "      <th>1</th>\n",
       "      <td>01</td>\n",
       "      <td>001</td>\n",
       "      <td>11----</td>\n",
       "      <td>NaN</td>\n",
       "      <td>H</td>\n",
       "      <td>70</td>\n",
       "      <td>H</td>\n",
       "      <td>790</td>\n",
       "      <td>H</td>\n",
       "      <td>3566</td>\n",
       "      <td>...</td>\n",
       "      <td>0</td>\n",
       "      <td>0</td>\n",
       "      <td>0</td>\n",
       "      <td>0</td>\n",
       "      <td>0</td>\n",
       "      <td>0</td>\n",
       "      <td>0</td>\n",
       "      <td>0</td>\n",
       "      <td>63</td>\n",
       "      <td>1</td>\n",
       "    </tr>\n",
       "    <tr>\n",
       "      <th>2</th>\n",
       "      <td>01</td>\n",
       "      <td>001</td>\n",
       "      <td>113///</td>\n",
       "      <td>NaN</td>\n",
       "      <td>H</td>\n",
       "      <td>70</td>\n",
       "      <td>H</td>\n",
       "      <td>790</td>\n",
       "      <td>H</td>\n",
       "      <td>3551</td>\n",
       "      <td>...</td>\n",
       "      <td>0</td>\n",
       "      <td>0</td>\n",
       "      <td>0</td>\n",
       "      <td>0</td>\n",
       "      <td>0</td>\n",
       "      <td>0</td>\n",
       "      <td>0</td>\n",
       "      <td>0</td>\n",
       "      <td>63</td>\n",
       "      <td>1</td>\n",
       "    </tr>\n",
       "    <tr>\n",
       "      <th>3</th>\n",
       "      <td>01</td>\n",
       "      <td>001</td>\n",
       "      <td>1133//</td>\n",
       "      <td>NaN</td>\n",
       "      <td>H</td>\n",
       "      <td>70</td>\n",
       "      <td>H</td>\n",
       "      <td>790</td>\n",
       "      <td>H</td>\n",
       "      <td>3551</td>\n",
       "      <td>...</td>\n",
       "      <td>0</td>\n",
       "      <td>0</td>\n",
       "      <td>0</td>\n",
       "      <td>0</td>\n",
       "      <td>0</td>\n",
       "      <td>0</td>\n",
       "      <td>0</td>\n",
       "      <td>0</td>\n",
       "      <td>63</td>\n",
       "      <td>1</td>\n",
       "    </tr>\n",
       "    <tr>\n",
       "      <th>4</th>\n",
       "      <td>01</td>\n",
       "      <td>001</td>\n",
       "      <td>11331/</td>\n",
       "      <td>NaN</td>\n",
       "      <td>H</td>\n",
       "      <td>70</td>\n",
       "      <td>H</td>\n",
       "      <td>790</td>\n",
       "      <td>H</td>\n",
       "      <td>3551</td>\n",
       "      <td>...</td>\n",
       "      <td>0</td>\n",
       "      <td>0</td>\n",
       "      <td>0</td>\n",
       "      <td>0</td>\n",
       "      <td>0</td>\n",
       "      <td>0</td>\n",
       "      <td>0</td>\n",
       "      <td>0</td>\n",
       "      <td>63</td>\n",
       "      <td>1</td>\n",
       "    </tr>\n",
       "  </tbody>\n",
       "</table>\n",
       "<p>5 rows × 26 columns</p>\n",
       "</div>"
      ],
      "text/plain": [
       "  FIPSTATE FIPSCTY   NAICS EMPFLAG EMP_NF    EMP QP1_NF    QP1 AP_NF      AP  \\\n",
       "0       01     001  ------     NaN      G  10454      G  76437     G  321433   \n",
       "1       01     001  11----     NaN      H     70      H    790     H    3566   \n",
       "2       01     001  113///     NaN      H     70      H    790     H    3551   \n",
       "3       01     001  1133//     NaN      H     70      H    790     H    3551   \n",
       "4       01     001  11331/     NaN      H     70      H    790     H    3551   \n",
       "\n",
       "    ...    N100_249  N250_499  N500_999  N1000  N1000_1  N1000_2  N1000_3  \\\n",
       "0   ...           6         2         1      0        0        0        0   \n",
       "1   ...           0         0         0      0        0        0        0   \n",
       "2   ...           0         0         0      0        0        0        0   \n",
       "3   ...           0         0         0      0        0        0        0   \n",
       "4   ...           0         0         0      0        0        0        0   \n",
       "\n",
       "   N1000_4  CENSTATE  CENCTY  \n",
       "0        0        63       1  \n",
       "1        0        63       1  \n",
       "2        0        63       1  \n",
       "3        0        63       1  \n",
       "4        0        63       1  \n",
       "\n",
       "[5 rows x 26 columns]"
      ]
     },
     "execution_count": 26,
     "metadata": {},
     "output_type": "execute_result"
    }
   ],
   "source": [
    "filename = '../../data/census/CBP/cbp15co.txt'\n",
    "cbp_county_2015_df = pd.read_csv(filename,\n",
    "                                 dtype={'FIPSTATE': str,\n",
    "                                        'FIPSCTY': str})\n",
    "print('rows, columns ', cbp_county_2015_df.shape)\n",
    "cbp_county_2015_df.head()"
   ]
  },
  {
   "cell_type": "code",
   "execution_count": 36,
   "metadata": {},
   "outputs": [],
   "source": [
    "geoids = [state + county for state, county in zip(cbp_county_2015_df['FIPSTATE'], cbp_county_2015_df['FIPSCTY'])]\n",
    "cbp_county_2015_df['GEOID'] = geoids"
   ]
  },
  {
   "cell_type": "code",
   "execution_count": 37,
   "metadata": {},
   "outputs": [
    {
     "data": {
      "text/plain": [
       "(1824, 27)"
      ]
     },
     "execution_count": 37,
     "metadata": {},
     "output_type": "execute_result"
    }
   ],
   "source": [
    "ecom_df = cbp_county_2015_df[cbp_county_2015_df['NAICS'] == '454111']\n",
    "ecom_df.shape"
   ]
  },
  {
   "cell_type": "code",
   "execution_count": 29,
   "metadata": {},
   "outputs": [
    {
     "data": {
      "text/plain": [
       "<matplotlib.axes._subplots.AxesSubplot at 0x7f8ffc11d940>"
      ]
     },
     "execution_count": 29,
     "metadata": {},
     "output_type": "execute_result"
    },
    {
     "data": {
      "image/png": "[encoded data removed]",
      "text/plain": [
       "<matplotlib.figure.Figure at 0x7f8ffcb48d30>"
      ]
     },
     "metadata": {},
     "output_type": "display_data"
    }
   ],
   "source": [
    "ecom_df['EMP'].plot.hist(bins=100, figsize=(12,4))"
   ]
  },
  {
   "cell_type": "code",
   "execution_count": 30,
   "metadata": {},
   "outputs": [
    {
     "data": {
      "text/plain": [
       "(441, 26)"
      ]
     },
     "execution_count": 30,
     "metadata": {},
     "output_type": "execute_result"
    }
   ],
   "source": [
    "ecom_co_gt39_df = ecom_df[ecom_df.EMP > 39]\n",
    "ecom_co_gt39_df.shape"
   ]
  },
  {
   "cell_type": "code",
   "execution_count": 31,
   "metadata": {},
   "outputs": [
    {
     "data": {
      "text/plain": [
       "<matplotlib.axes._subplots.AxesSubplot at 0x7f8ffb49d7f0>"
      ]
     },
     "execution_count": 31,
     "metadata": {},
     "output_type": "execute_result"
    },
    {
     "data": {
      "image/png": "[encoded data removed]",
      "text/plain": [
       "<matplotlib.figure.Figure at 0x7f8ffb4b6898>"
      ]
     },
     "metadata": {},
     "output_type": "display_data"
    }
   ],
   "source": [
    "ecom_co_gt39_df['EMP'].plot.hist(bins=100, figsize=(12,4))"
   ]
  },
  {
   "cell_type": "code",
   "execution_count": 24,
   "metadata": {},
   "outputs": [
    {
     "data": {
      "text/html": [
       "<div>\n",
       "<style>\n",
       "    .dataframe thead tr:only-child th {\n",
       "        text-align: right;\n",
       "    }\n",
       "\n",
       "    .dataframe thead th {\n",
       "        text-align: left;\n",
       "    }\n",
       "\n",
       "    .dataframe tbody tr th {\n",
       "        vertical-align: top;\n",
       "    }\n",
       "</style>\n",
       "<table border=\"1\" class=\"dataframe\">\n",
       "  <thead>\n",
       "    <tr style=\"text-align: right;\">\n",
       "      <th></th>\n",
       "      <th>STATEFP</th>\n",
       "      <th>COUNTYFP</th>\n",
       "      <th>COUNTYNS</th>\n",
       "      <th>AFFGEOID</th>\n",
       "      <th>GEOID</th>\n",
       "      <th>NAME</th>\n",
       "      <th>LSAD</th>\n",
       "      <th>ALAND</th>\n",
       "      <th>AWATER</th>\n",
       "      <th>geometry</th>\n",
       "    </tr>\n",
       "  </thead>\n",
       "  <tbody>\n",
       "    <tr>\n",
       "      <th>0</th>\n",
       "      <td>01</td>\n",
       "      <td>005</td>\n",
       "      <td>00161528</td>\n",
       "      <td>0500000US01005</td>\n",
       "      <td>01005</td>\n",
       "      <td>Barbour</td>\n",
       "      <td>06</td>\n",
       "      <td>2291820706</td>\n",
       "      <td>50864677</td>\n",
       "      <td>POLYGON ((-85.74803199999999 31.619181, -85.74...</td>\n",
       "    </tr>\n",
       "    <tr>\n",
       "      <th>1</th>\n",
       "      <td>01</td>\n",
       "      <td>023</td>\n",
       "      <td>00161537</td>\n",
       "      <td>0500000US01023</td>\n",
       "      <td>01023</td>\n",
       "      <td>Choctaw</td>\n",
       "      <td>06</td>\n",
       "      <td>2365954971</td>\n",
       "      <td>19059247</td>\n",
       "      <td>POLYGON ((-88.47322699999999 31.893856, -88.46...</td>\n",
       "    </tr>\n",
       "    <tr>\n",
       "      <th>2</th>\n",
       "      <td>01</td>\n",
       "      <td>035</td>\n",
       "      <td>00161543</td>\n",
       "      <td>0500000US01035</td>\n",
       "      <td>01035</td>\n",
       "      <td>Conecuh</td>\n",
       "      <td>06</td>\n",
       "      <td>2201896058</td>\n",
       "      <td>6643480</td>\n",
       "      <td>POLYGON ((-87.42720399999999 31.26436, -87.425...</td>\n",
       "    </tr>\n",
       "  </tbody>\n",
       "</table>\n",
       "</div>"
      ],
      "text/plain": [
       "  STATEFP COUNTYFP  COUNTYNS        AFFGEOID  GEOID     NAME LSAD       ALAND  \\\n",
       "0      01      005  00161528  0500000US01005  01005  Barbour   06  2291820706   \n",
       "1      01      023  00161537  0500000US01023  01023  Choctaw   06  2365954971   \n",
       "2      01      035  00161543  0500000US01035  01035  Conecuh   06  2201896058   \n",
       "\n",
       "     AWATER                                           geometry  \n",
       "0  50864677  POLYGON ((-85.74803199999999 31.619181, -85.74...  \n",
       "1  19059247  POLYGON ((-88.47322699999999 31.893856, -88.46...  \n",
       "2   6643480  POLYGON ((-87.42720399999999 31.26436, -87.425...  "
      ]
     },
     "execution_count": 24,
     "metadata": {},
     "output_type": "execute_result"
    }
   ],
   "source": [
    "cb_2015_us_county = '../../data/shapefiles/cb_2015_us_county_500k/cb_2015_us_county_500k.shp'\n",
    "us_county_df = gpd.read_file(cb_2015_us_county)\n",
    "us_county_df.head(3)"
   ]
  },
  {
   "cell_type": "code",
   "execution_count": 42,
   "metadata": {},
   "outputs": [
    {
     "data": {
      "text/html": [
       "<div>\n",
       "<style>\n",
       "    .dataframe thead tr:only-child th {\n",
       "        text-align: right;\n",
       "    }\n",
       "\n",
       "    .dataframe thead th {\n",
       "        text-align: left;\n",
       "    }\n",
       "\n",
       "    .dataframe tbody tr th {\n",
       "        vertical-align: top;\n",
       "    }\n",
       "</style>\n",
       "<table border=\"1\" class=\"dataframe\">\n",
       "  <thead>\n",
       "    <tr style=\"text-align: right;\">\n",
       "      <th></th>\n",
       "      <th>STATEFP</th>\n",
       "      <th>STATENS</th>\n",
       "      <th>AFFGEOID</th>\n",
       "      <th>GEOID</th>\n",
       "      <th>STUSPS</th>\n",
       "      <th>NAME</th>\n",
       "      <th>LSAD</th>\n",
       "      <th>ALAND</th>\n",
       "      <th>AWATER</th>\n",
       "      <th>geometry</th>\n",
       "    </tr>\n",
       "  </thead>\n",
       "  <tbody>\n",
       "    <tr>\n",
       "      <th>0</th>\n",
       "      <td>31</td>\n",
       "      <td>01779792</td>\n",
       "      <td>0400000US31</td>\n",
       "      <td>31</td>\n",
       "      <td>NE</td>\n",
       "      <td>Nebraska</td>\n",
       "      <td>00</td>\n",
       "      <td>198972429772</td>\n",
       "      <td>1356294775</td>\n",
       "      <td>POLYGON ((-104.053418545071 41.1705389679833, ...</td>\n",
       "    </tr>\n",
       "    <tr>\n",
       "      <th>1</th>\n",
       "      <td>53</td>\n",
       "      <td>01779804</td>\n",
       "      <td>0400000US53</td>\n",
       "      <td>53</td>\n",
       "      <td>WA</td>\n",
       "      <td>Washington</td>\n",
       "      <td>00</td>\n",
       "      <td>172121026344</td>\n",
       "      <td>12540093192</td>\n",
       "      <td>(POLYGON ((-122.33164 48.020556, -122.328343 4...</td>\n",
       "    </tr>\n",
       "    <tr>\n",
       "      <th>2</th>\n",
       "      <td>35</td>\n",
       "      <td>00897535</td>\n",
       "      <td>0400000US35</td>\n",
       "      <td>35</td>\n",
       "      <td>NM</td>\n",
       "      <td>New Mexico</td>\n",
       "      <td>00</td>\n",
       "      <td>314161426332</td>\n",
       "      <td>755674004</td>\n",
       "      <td>POLYGON ((-109.050173 31.480004, -109.049843 3...</td>\n",
       "    </tr>\n",
       "  </tbody>\n",
       "</table>\n",
       "</div>"
      ],
      "text/plain": [
       "  STATEFP   STATENS     AFFGEOID GEOID STUSPS        NAME LSAD         ALAND  \\\n",
       "0      31  01779792  0400000US31    31     NE    Nebraska   00  198972429772   \n",
       "1      53  01779804  0400000US53    53     WA  Washington   00  172121026344   \n",
       "2      35  00897535  0400000US35    35     NM  New Mexico   00  314161426332   \n",
       "\n",
       "        AWATER                                           geometry  \n",
       "0   1356294775  POLYGON ((-104.053418545071 41.1705389679833, ...  \n",
       "1  12540093192  (POLYGON ((-122.33164 48.020556, -122.328343 4...  \n",
       "2    755674004  POLYGON ((-109.050173 31.480004, -109.049843 3...  "
      ]
     },
     "execution_count": 42,
     "metadata": {},
     "output_type": "execute_result"
    }
   ],
   "source": [
    "cb_2015_us_state = '../../data/shapefiles/cb_2015_us_state_500k/cb_2015_us_state_500k.shp'\n",
    "us_state_df = gpd.read_file(cb_2015_us_state)\n",
    "us_state_df.head(3)"
   ]
  },
  {
   "cell_type": "code",
   "execution_count": 49,
   "metadata": {},
   "outputs": [
    {
     "data": {
      "text/plain": [
       "<matplotlib.axes._subplots.AxesSubplot at 0x7f8fe5035898>"
      ]
     },
     "execution_count": 49,
     "metadata": {},
     "output_type": "execute_result"
    },
    {
     "data": {
      "image/png": "[encoded data removed]",
      "text/plain": [
       "<matplotlib.figure.Figure at 0x7f8fe507d9e8>"
      ]
     },
     "metadata": {},
     "output_type": "display_data"
    }
   ],
   "source": [
    "us_state_df.plot(linewidth=0.06,\n",
    "                 alpha=0.6,\n",
    "                 figsize=(12, 6))"
   ]
  },
  {
   "cell_type": "code",
   "execution_count": null,
   "metadata": {
    "collapsed": true
   },
   "outputs": [],
   "source": []
  }
 ],
 "metadata": {
  "kernelspec": {
   "display_name": "Python 3",
   "language": "python",
   "name": "python3"
  },
  "language_info": {
   "codemirror_mode": {
    "name": "ipython",
    "version": 3
   },
   "file_extension": ".py",
   "mimetype": "text/x-python",
   "name": "python",
   "nbconvert_exporter": "python",
   "pygments_lexer": "ipython3",
   "version": "3.6.0"
  }
 },
 "nbformat": 4,
 "nbformat_minor": 2
}
