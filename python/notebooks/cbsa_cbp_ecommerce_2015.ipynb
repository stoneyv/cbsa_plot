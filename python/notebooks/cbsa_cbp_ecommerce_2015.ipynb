{
 "cells": [
  {
   "cell_type": "code",
   "execution_count": 1,
   "metadata": {},
   "outputs": [
    {
     "name": "stdout",
     "output_type": "stream",
     "text": [
      "python version  3.6.2\n",
      "numpy version  1.13.1\n",
      "pandas version  0.20.3\n"
     ]
    }
   ],
   "source": [
    "import pandas as pd\n",
    "import numpy as np\n",
    "import sys\n",
    "\n",
    "version = \".\".join(map(str, sys.version_info[:3]))\n",
    "print('python version ', version)\n",
    "print('numpy version ', np.__version__)\n",
    "print('pandas version ',pd.__version__)"
   ]
  },
  {
   "cell_type": "code",
   "execution_count": 2,
   "metadata": {},
   "outputs": [
    {
     "name": "stdout",
     "output_type": "stream",
     "text": [
      "geopandas version  0.3.0\n"
     ]
    }
   ],
   "source": [
    "import geopandas as gpd\n",
    "import pysal\n",
    "\n",
    "print(\"geopandas version \", gpd.__version__)"
   ]
  },
  {
   "cell_type": "code",
   "execution_count": 3,
   "metadata": {
    "collapsed": true
   },
   "outputs": [],
   "source": [
    "import matplotlib.pyplot as plt\n",
    "\n",
    "# Tell the kernel that we want the plots to be in this notebook\n",
    "# and not in an external window\n",
    "%matplotlib inline"
   ]
  },
  {
   "cell_type": "markdown",
   "metadata": {},
   "source": [
    "### US State shapefile\n",
    "We want the US states shapefile to be the bottom layer to help give the view geographic context.  Additional geographic context is given through city names and points."
   ]
  },
  {
   "cell_type": "code",
   "execution_count": 4,
   "metadata": {},
   "outputs": [
    {
     "data": {
      "text/html": [
       "<div>\n",
       "<style>\n",
       "    .dataframe thead tr:only-child th {\n",
       "        text-align: right;\n",
       "    }\n",
       "\n",
       "    .dataframe thead th {\n",
       "        text-align: left;\n",
       "    }\n",
       "\n",
       "    .dataframe tbody tr th {\n",
       "        vertical-align: top;\n",
       "    }\n",
       "</style>\n",
       "<table border=\"1\" class=\"dataframe\">\n",
       "  <thead>\n",
       "    <tr style=\"text-align: right;\">\n",
       "      <th></th>\n",
       "      <th>STATEFP</th>\n",
       "      <th>STATENS</th>\n",
       "      <th>AFFGEOID</th>\n",
       "      <th>GEOID</th>\n",
       "      <th>STUSPS</th>\n",
       "      <th>NAME</th>\n",
       "      <th>LSAD</th>\n",
       "      <th>ALAND</th>\n",
       "      <th>AWATER</th>\n",
       "      <th>geometry</th>\n",
       "    </tr>\n",
       "  </thead>\n",
       "  <tbody>\n",
       "    <tr>\n",
       "      <th>0</th>\n",
       "      <td>48</td>\n",
       "      <td>01779801</td>\n",
       "      <td>0400000US48</td>\n",
       "      <td>48</td>\n",
       "      <td>TX</td>\n",
       "      <td>Texas</td>\n",
       "      <td>00</td>\n",
       "      <td>676634395761</td>\n",
       "      <td>19027462392</td>\n",
       "      <td>POLYGON ((-106.623445 31.914034, -106.630114 3...</td>\n",
       "    </tr>\n",
       "    <tr>\n",
       "      <th>1</th>\n",
       "      <td>06</td>\n",
       "      <td>01779778</td>\n",
       "      <td>0400000US06</td>\n",
       "      <td>06</td>\n",
       "      <td>CA</td>\n",
       "      <td>California</td>\n",
       "      <td>00</td>\n",
       "      <td>403488955894</td>\n",
       "      <td>20477992907</td>\n",
       "      <td>(POLYGON ((-118.593969 33.467198, -118.484785 ...</td>\n",
       "    </tr>\n",
       "    <tr>\n",
       "      <th>2</th>\n",
       "      <td>21</td>\n",
       "      <td>01779786</td>\n",
       "      <td>0400000US21</td>\n",
       "      <td>21</td>\n",
       "      <td>KY</td>\n",
       "      <td>Kentucky</td>\n",
       "      <td>00</td>\n",
       "      <td>102266253024</td>\n",
       "      <td>2389483091</td>\n",
       "      <td>POLYGON ((-89.544434 36.57451, -89.47934599999...</td>\n",
       "    </tr>\n",
       "  </tbody>\n",
       "</table>\n",
       "</div>"
      ],
      "text/plain": [
       "  STATEFP   STATENS     AFFGEOID GEOID STUSPS        NAME LSAD         ALAND  \\\n",
       "0      48  01779801  0400000US48    48     TX       Texas   00  676634395761   \n",
       "1      06  01779778  0400000US06    06     CA  California   00  403488955894   \n",
       "2      21  01779786  0400000US21    21     KY    Kentucky   00  102266253024   \n",
       "\n",
       "        AWATER                                           geometry  \n",
       "0  19027462392  POLYGON ((-106.623445 31.914034, -106.630114 3...  \n",
       "1  20477992907  (POLYGON ((-118.593969 33.467198, -118.484785 ...  \n",
       "2   2389483091  POLYGON ((-89.544434 36.57451, -89.47934599999...  "
      ]
     },
     "execution_count": 4,
     "metadata": {},
     "output_type": "execute_result"
    }
   ],
   "source": [
    "cb_2015_us_state = '../../data/shapefiles/cb_2015_us_state_20m/cb_2015_us_state_20m.shp'\n",
    "us_state_df = gpd.read_file(cb_2015_us_state)\n",
    "us_state_df.head(3)"
   ]
  },
  {
   "cell_type": "code",
   "execution_count": 5,
   "metadata": {
    "collapsed": true
   },
   "outputs": [],
   "source": [
    "# Albers coordinate reference system projection\n",
    "# for projecting continental US polygons and points\n",
    "target_crs = {'datum':'WGS84', 'no_defs':True,\n",
    "              'proj':'aea',\n",
    "              'lat_1':35, 'lat_2':55,\n",
    "              'lat_0':45, 'lon_0':10}\n",
    "# Original Census Bureau boundary shapefile CRS\n",
    "original_crs = us_state_df.crs"
   ]
  },
  {
   "cell_type": "markdown",
   "metadata": {},
   "source": [
    "### Exclude polygons that are outside of the continental US"
   ]
  },
  {
   "cell_type": "code",
   "execution_count": 6,
   "metadata": {
    "collapsed": true
   },
   "outputs": [],
   "source": [
    "fips_states_outside = set(['02','15','72','66',\n",
    "                       '78','60','69','64',\n",
    "                       '68','70','74',\n",
    "                       '81', '84', '86', '87',\n",
    "                       '89', '71', '76', '95',\n",
    "                       '79'])"
   ]
  },
  {
   "cell_type": "code",
   "execution_count": 7,
   "metadata": {
    "collapsed": true
   },
   "outputs": [],
   "source": [
    "us_cstate_df = us_state_df[np.logical_not(us_state_df['GEOID'].isin(fips_states_outside))]"
   ]
  },
  {
   "cell_type": "markdown",
   "metadata": {},
   "source": [
    "### US County shapefile\n",
    "We want the county FIPS unique identifier as well as the centroid in order to plot points that represent ecommerce employees.  We do not need to plot polygons for the actual counties."
   ]
  },
  {
   "cell_type": "code",
   "execution_count": 8,
   "metadata": {},
   "outputs": [
    {
     "data": {
      "text/html": [
       "<div>\n",
       "<style>\n",
       "    .dataframe thead tr:only-child th {\n",
       "        text-align: right;\n",
       "    }\n",
       "\n",
       "    .dataframe thead th {\n",
       "        text-align: left;\n",
       "    }\n",
       "\n",
       "    .dataframe tbody tr th {\n",
       "        vertical-align: top;\n",
       "    }\n",
       "</style>\n",
       "<table border=\"1\" class=\"dataframe\">\n",
       "  <thead>\n",
       "    <tr style=\"text-align: right;\">\n",
       "      <th></th>\n",
       "      <th>STATEFP</th>\n",
       "      <th>COUNTYFP</th>\n",
       "      <th>COUNTYNS</th>\n",
       "      <th>AFFGEOID</th>\n",
       "      <th>GEOID</th>\n",
       "      <th>NAME</th>\n",
       "      <th>LSAD</th>\n",
       "      <th>ALAND</th>\n",
       "      <th>AWATER</th>\n",
       "      <th>geometry</th>\n",
       "    </tr>\n",
       "  </thead>\n",
       "  <tbody>\n",
       "    <tr>\n",
       "      <th>0</th>\n",
       "      <td>20</td>\n",
       "      <td>175</td>\n",
       "      <td>00485050</td>\n",
       "      <td>0500000US20175</td>\n",
       "      <td>20175</td>\n",
       "      <td>Seward</td>\n",
       "      <td>06</td>\n",
       "      <td>1655865960</td>\n",
       "      <td>2777350</td>\n",
       "      <td>POLYGON ((-101.067904 37.38777899999999, -100....</td>\n",
       "    </tr>\n",
       "    <tr>\n",
       "      <th>1</th>\n",
       "      <td>28</td>\n",
       "      <td>141</td>\n",
       "      <td>00695791</td>\n",
       "      <td>0500000US28141</td>\n",
       "      <td>28141</td>\n",
       "      <td>Tishomingo</td>\n",
       "      <td>06</td>\n",
       "      <td>1098939230</td>\n",
       "      <td>52359814</td>\n",
       "      <td>POLYGON ((-88.36353026853919 34.9957467517971,...</td>\n",
       "    </tr>\n",
       "    <tr>\n",
       "      <th>2</th>\n",
       "      <td>36</td>\n",
       "      <td>101</td>\n",
       "      <td>00974148</td>\n",
       "      <td>0500000US36101</td>\n",
       "      <td>36101</td>\n",
       "      <td>Steuben</td>\n",
       "      <td>06</td>\n",
       "      <td>3601566799</td>\n",
       "      <td>34993606</td>\n",
       "      <td>POLYGON ((-77.72296399999999 42.471216, -77.72...</td>\n",
       "    </tr>\n",
       "  </tbody>\n",
       "</table>\n",
       "</div>"
      ],
      "text/plain": [
       "  STATEFP COUNTYFP  COUNTYNS        AFFGEOID  GEOID        NAME LSAD  \\\n",
       "0      20      175  00485050  0500000US20175  20175      Seward   06   \n",
       "1      28      141  00695791  0500000US28141  28141  Tishomingo   06   \n",
       "2      36      101  00974148  0500000US36101  36101     Steuben   06   \n",
       "\n",
       "        ALAND    AWATER                                           geometry  \n",
       "0  1655865960   2777350  POLYGON ((-101.067904 37.38777899999999, -100....  \n",
       "1  1098939230  52359814  POLYGON ((-88.36353026853919 34.9957467517971,...  \n",
       "2  3601566799  34993606  POLYGON ((-77.72296399999999 42.471216, -77.72...  "
      ]
     },
     "execution_count": 8,
     "metadata": {},
     "output_type": "execute_result"
    }
   ],
   "source": [
    "cb_2015_us_county = '../../data/shapefiles/cb_2015_us_county_20m/cb_2015_us_county_20m.shp'\n",
    "us_county_df = gpd.read_file(cb_2015_us_county)\n",
    "us_county_df.head(3)"
   ]
  },
  {
   "cell_type": "code",
   "execution_count": 9,
   "metadata": {},
   "outputs": [
    {
     "name": "stdout",
     "output_type": "stream",
     "text": [
      "county_centers_df rows, cols (3220, 5)\n"
     ]
    },
    {
     "data": {
      "text/html": [
       "<div>\n",
       "<style>\n",
       "    .dataframe thead tr:only-child th {\n",
       "        text-align: right;\n",
       "    }\n",
       "\n",
       "    .dataframe thead th {\n",
       "        text-align: left;\n",
       "    }\n",
       "\n",
       "    .dataframe tbody tr th {\n",
       "        vertical-align: top;\n",
       "    }\n",
       "</style>\n",
       "<table border=\"1\" class=\"dataframe\">\n",
       "  <thead>\n",
       "    <tr style=\"text-align: right;\">\n",
       "      <th></th>\n",
       "      <th>GEOID</th>\n",
       "      <th>NAME</th>\n",
       "      <th>geometry</th>\n",
       "      <th>lat</th>\n",
       "      <th>lon</th>\n",
       "    </tr>\n",
       "  </thead>\n",
       "  <tbody>\n",
       "    <tr>\n",
       "      <th>0</th>\n",
       "      <td>20175</td>\n",
       "      <td>Seward</td>\n",
       "      <td>POINT (-6450689.870011182 -5606907.714936352)</td>\n",
       "      <td>-5.606908e+06</td>\n",
       "      <td>-6.450690e+06</td>\n",
       "    </tr>\n",
       "    <tr>\n",
       "      <th>1</th>\n",
       "      <td>28141</td>\n",
       "      <td>Tishomingo</td>\n",
       "      <td>POINT (-5307449.339152199 -5835440.824897715)</td>\n",
       "      <td>-5.835441e+06</td>\n",
       "      <td>-5.307449e+06</td>\n",
       "    </tr>\n",
       "    <tr>\n",
       "      <th>2</th>\n",
       "      <td>36101</td>\n",
       "      <td>Steuben</td>\n",
       "      <td>POINT (-4535164.692944236 -4840218.932238986)</td>\n",
       "      <td>-4.840219e+06</td>\n",
       "      <td>-4.535165e+06</td>\n",
       "    </tr>\n",
       "  </tbody>\n",
       "</table>\n",
       "</div>"
      ],
      "text/plain": [
       "   GEOID        NAME                                       geometry  \\\n",
       "0  20175      Seward  POINT (-6450689.870011182 -5606907.714936352)   \n",
       "1  28141  Tishomingo  POINT (-5307449.339152199 -5835440.824897715)   \n",
       "2  36101     Steuben  POINT (-4535164.692944236 -4840218.932238986)   \n",
       "\n",
       "            lat           lon  \n",
       "0 -5.606908e+06 -6.450690e+06  \n",
       "1 -5.835441e+06 -5.307449e+06  \n",
       "2 -4.840219e+06 -4.535165e+06  "
      ]
     },
     "execution_count": 9,
     "metadata": {},
     "output_type": "execute_result"
    }
   ],
   "source": [
    "# Get county centroids and then project them to Albers CRS\n",
    "# The projected points will be plotted using the matplotlib scatter function\n",
    "def getXY(point):\n",
    "    return point.x, point.y\n",
    "county_centers = us_county_df['geometry'].centroid\n",
    "target_crs = {'datum':'WGS84', 'no_defs':True, 'proj':'aea', 'lat_1':35, 'lat_2':55, 'lat_0':45, 'lon_0':10}\n",
    "angle_rot = 75\n",
    "center=(-98.5795,39.8283)\n",
    "county_centers_albers = county_centers.to_crs(target_crs).rotate(angle=angle_rot,\n",
    "                                                                 origin=center)\n",
    "x,y = [list(t) for t in zip(*map(getXY, county_centers_albers))]\n",
    "\n",
    "county_centers_df = pd.DataFrame({'GEOID': us_county_df['GEOID'],\n",
    "                                  'NAME': us_county_df['NAME'],\n",
    "                                  'lon': x,\n",
    "                                  'lat': y,\n",
    "                                  'geometry': county_centers_albers})\n",
    "print('county_centers_df rows, cols', county_centers_df.shape)\n",
    "county_centers_df.head(3)"
   ]
  },
  {
   "cell_type": "markdown",
   "metadata": {},
   "source": [
    "### Core Based Statistical Areas shapefile\n",
    "Two subsets/categories of these statistical areas will be plotted in order to highlight the fact that more people are employed with the ecommerce NAICS in urban areas."
   ]
  },
  {
   "cell_type": "code",
   "execution_count": 10,
   "metadata": {},
   "outputs": [
    {
     "data": {
      "text/html": [
       "<div>\n",
       "<style>\n",
       "    .dataframe thead tr:only-child th {\n",
       "        text-align: right;\n",
       "    }\n",
       "\n",
       "    .dataframe thead th {\n",
       "        text-align: left;\n",
       "    }\n",
       "\n",
       "    .dataframe tbody tr th {\n",
       "        vertical-align: top;\n",
       "    }\n",
       "</style>\n",
       "<table border=\"1\" class=\"dataframe\">\n",
       "  <thead>\n",
       "    <tr style=\"text-align: right;\">\n",
       "      <th></th>\n",
       "      <th>CSAFP</th>\n",
       "      <th>CBSAFP</th>\n",
       "      <th>AFFGEOID</th>\n",
       "      <th>GEOID</th>\n",
       "      <th>NAME</th>\n",
       "      <th>LSAD</th>\n",
       "      <th>ALAND</th>\n",
       "      <th>AWATER</th>\n",
       "      <th>geometry</th>\n",
       "    </tr>\n",
       "  </thead>\n",
       "  <tbody>\n",
       "    <tr>\n",
       "      <th>0</th>\n",
       "      <td>357</td>\n",
       "      <td>12660</td>\n",
       "      <td>310M200US12660</td>\n",
       "      <td>12660</td>\n",
       "      <td>Baraboo, WI</td>\n",
       "      <td>M2</td>\n",
       "      <td>2152007753</td>\n",
       "      <td>45296336</td>\n",
       "      <td>POLYGON ((-90.312404 43.640988, -89.785809 43....</td>\n",
       "    </tr>\n",
       "    <tr>\n",
       "      <th>1</th>\n",
       "      <td>184</td>\n",
       "      <td>10420</td>\n",
       "      <td>310M200US10420</td>\n",
       "      <td>10420</td>\n",
       "      <td>Akron, OH</td>\n",
       "      <td>M1</td>\n",
       "      <td>2331619578</td>\n",
       "      <td>62018442</td>\n",
       "      <td>POLYGON ((-81.68698999999999 41.135956, -81.68...</td>\n",
       "    </tr>\n",
       "    <tr>\n",
       "      <th>2</th>\n",
       "      <td>258</td>\n",
       "      <td>26540</td>\n",
       "      <td>310M200US26540</td>\n",
       "      <td>26540</td>\n",
       "      <td>Huntington, IN</td>\n",
       "      <td>M2</td>\n",
       "      <td>991056505</td>\n",
       "      <td>13133894</td>\n",
       "      <td>POLYGON ((-85.64384099999999 41.002305, -85.33...</td>\n",
       "    </tr>\n",
       "  </tbody>\n",
       "</table>\n",
       "</div>"
      ],
      "text/plain": [
       "  CSAFP CBSAFP        AFFGEOID  GEOID            NAME LSAD       ALAND  \\\n",
       "0   357  12660  310M200US12660  12660     Baraboo, WI   M2  2152007753   \n",
       "1   184  10420  310M200US10420  10420       Akron, OH   M1  2331619578   \n",
       "2   258  26540  310M200US26540  26540  Huntington, IN   M2   991056505   \n",
       "\n",
       "     AWATER                                           geometry  \n",
       "0  45296336  POLYGON ((-90.312404 43.640988, -89.785809 43....  \n",
       "1  62018442  POLYGON ((-81.68698999999999 41.135956, -81.68...  \n",
       "2  13133894  POLYGON ((-85.64384099999999 41.002305, -85.33...  "
      ]
     },
     "execution_count": 10,
     "metadata": {},
     "output_type": "execute_result"
    }
   ],
   "source": [
    "cb_2015_us_cbsa = '../../data/shapefiles/cb_2015_us_cbsa_20m/cb_2015_us_cbsa_20m.shp'\n",
    "us_cbsa_df = gpd.read_file(cb_2015_us_cbsa)\n",
    "us_cbsa_df.head(3)"
   ]
  },
  {
   "cell_type": "markdown",
   "metadata": {},
   "source": [
    "### County Business Patterns 2015\n",
    "The County Business Patterns data provides the number of people employed by job type as well as payroll data.  There is noise added to the data to prevent people from being able to identify data for a particular company.  We want to determine the number of people employed in ecommerce ( US Labor department NAICS 454111 )"
   ]
  },
  {
   "cell_type": "code",
   "execution_count": 11,
   "metadata": {},
   "outputs": [
    {
     "name": "stdout",
     "output_type": "stream",
     "text": [
      "rows, columns  (2126601, 26)\n"
     ]
    },
    {
     "data": {
      "text/html": [
       "<div>\n",
       "<style>\n",
       "    .dataframe thead tr:only-child th {\n",
       "        text-align: right;\n",
       "    }\n",
       "\n",
       "    .dataframe thead th {\n",
       "        text-align: left;\n",
       "    }\n",
       "\n",
       "    .dataframe tbody tr th {\n",
       "        vertical-align: top;\n",
       "    }\n",
       "</style>\n",
       "<table border=\"1\" class=\"dataframe\">\n",
       "  <thead>\n",
       "    <tr style=\"text-align: right;\">\n",
       "      <th></th>\n",
       "      <th>FIPSTATE</th>\n",
       "      <th>FIPSCTY</th>\n",
       "      <th>NAICS</th>\n",
       "      <th>EMPFLAG</th>\n",
       "      <th>EMP_NF</th>\n",
       "      <th>EMP</th>\n",
       "      <th>QP1_NF</th>\n",
       "      <th>QP1</th>\n",
       "      <th>AP_NF</th>\n",
       "      <th>AP</th>\n",
       "      <th>...</th>\n",
       "      <th>N100_249</th>\n",
       "      <th>N250_499</th>\n",
       "      <th>N500_999</th>\n",
       "      <th>N1000</th>\n",
       "      <th>N1000_1</th>\n",
       "      <th>N1000_2</th>\n",
       "      <th>N1000_3</th>\n",
       "      <th>N1000_4</th>\n",
       "      <th>CENSTATE</th>\n",
       "      <th>CENCTY</th>\n",
       "    </tr>\n",
       "  </thead>\n",
       "  <tbody>\n",
       "    <tr>\n",
       "      <th>0</th>\n",
       "      <td>01</td>\n",
       "      <td>001</td>\n",
       "      <td>------</td>\n",
       "      <td>NaN</td>\n",
       "      <td>G</td>\n",
       "      <td>10454</td>\n",
       "      <td>G</td>\n",
       "      <td>76437</td>\n",
       "      <td>G</td>\n",
       "      <td>321433</td>\n",
       "      <td>...</td>\n",
       "      <td>6</td>\n",
       "      <td>2</td>\n",
       "      <td>1</td>\n",
       "      <td>0</td>\n",
       "      <td>0</td>\n",
       "      <td>0</td>\n",
       "      <td>0</td>\n",
       "      <td>0</td>\n",
       "      <td>63</td>\n",
       "      <td>1</td>\n",
       "    </tr>\n",
       "    <tr>\n",
       "      <th>1</th>\n",
       "      <td>01</td>\n",
       "      <td>001</td>\n",
       "      <td>11----</td>\n",
       "      <td>NaN</td>\n",
       "      <td>H</td>\n",
       "      <td>70</td>\n",
       "      <td>H</td>\n",
       "      <td>790</td>\n",
       "      <td>H</td>\n",
       "      <td>3566</td>\n",
       "      <td>...</td>\n",
       "      <td>0</td>\n",
       "      <td>0</td>\n",
       "      <td>0</td>\n",
       "      <td>0</td>\n",
       "      <td>0</td>\n",
       "      <td>0</td>\n",
       "      <td>0</td>\n",
       "      <td>0</td>\n",
       "      <td>63</td>\n",
       "      <td>1</td>\n",
       "    </tr>\n",
       "    <tr>\n",
       "      <th>2</th>\n",
       "      <td>01</td>\n",
       "      <td>001</td>\n",
       "      <td>113///</td>\n",
       "      <td>NaN</td>\n",
       "      <td>H</td>\n",
       "      <td>70</td>\n",
       "      <td>H</td>\n",
       "      <td>790</td>\n",
       "      <td>H</td>\n",
       "      <td>3551</td>\n",
       "      <td>...</td>\n",
       "      <td>0</td>\n",
       "      <td>0</td>\n",
       "      <td>0</td>\n",
       "      <td>0</td>\n",
       "      <td>0</td>\n",
       "      <td>0</td>\n",
       "      <td>0</td>\n",
       "      <td>0</td>\n",
       "      <td>63</td>\n",
       "      <td>1</td>\n",
       "    </tr>\n",
       "    <tr>\n",
       "      <th>3</th>\n",
       "      <td>01</td>\n",
       "      <td>001</td>\n",
       "      <td>1133//</td>\n",
       "      <td>NaN</td>\n",
       "      <td>H</td>\n",
       "      <td>70</td>\n",
       "      <td>H</td>\n",
       "      <td>790</td>\n",
       "      <td>H</td>\n",
       "      <td>3551</td>\n",
       "      <td>...</td>\n",
       "      <td>0</td>\n",
       "      <td>0</td>\n",
       "      <td>0</td>\n",
       "      <td>0</td>\n",
       "      <td>0</td>\n",
       "      <td>0</td>\n",
       "      <td>0</td>\n",
       "      <td>0</td>\n",
       "      <td>63</td>\n",
       "      <td>1</td>\n",
       "    </tr>\n",
       "    <tr>\n",
       "      <th>4</th>\n",
       "      <td>01</td>\n",
       "      <td>001</td>\n",
       "      <td>11331/</td>\n",
       "      <td>NaN</td>\n",
       "      <td>H</td>\n",
       "      <td>70</td>\n",
       "      <td>H</td>\n",
       "      <td>790</td>\n",
       "      <td>H</td>\n",
       "      <td>3551</td>\n",
       "      <td>...</td>\n",
       "      <td>0</td>\n",
       "      <td>0</td>\n",
       "      <td>0</td>\n",
       "      <td>0</td>\n",
       "      <td>0</td>\n",
       "      <td>0</td>\n",
       "      <td>0</td>\n",
       "      <td>0</td>\n",
       "      <td>63</td>\n",
       "      <td>1</td>\n",
       "    </tr>\n",
       "  </tbody>\n",
       "</table>\n",
       "<p>5 rows × 26 columns</p>\n",
       "</div>"
      ],
      "text/plain": [
       "  FIPSTATE FIPSCTY   NAICS EMPFLAG EMP_NF    EMP QP1_NF    QP1 AP_NF      AP  \\\n",
       "0       01     001  ------     NaN      G  10454      G  76437     G  321433   \n",
       "1       01     001  11----     NaN      H     70      H    790     H    3566   \n",
       "2       01     001  113///     NaN      H     70      H    790     H    3551   \n",
       "3       01     001  1133//     NaN      H     70      H    790     H    3551   \n",
       "4       01     001  11331/     NaN      H     70      H    790     H    3551   \n",
       "\n",
       "    ...    N100_249  N250_499  N500_999  N1000  N1000_1  N1000_2  N1000_3  \\\n",
       "0   ...           6         2         1      0        0        0        0   \n",
       "1   ...           0         0         0      0        0        0        0   \n",
       "2   ...           0         0         0      0        0        0        0   \n",
       "3   ...           0         0         0      0        0        0        0   \n",
       "4   ...           0         0         0      0        0        0        0   \n",
       "\n",
       "   N1000_4  CENSTATE  CENCTY  \n",
       "0        0        63       1  \n",
       "1        0        63       1  \n",
       "2        0        63       1  \n",
       "3        0        63       1  \n",
       "4        0        63       1  \n",
       "\n",
       "[5 rows x 26 columns]"
      ]
     },
     "execution_count": 11,
     "metadata": {},
     "output_type": "execute_result"
    }
   ],
   "source": [
    "filename = '../../data/census/CBP/cbp15co.txt'\n",
    "cbp_county_2015_df = pd.read_csv(filename,\n",
    "                                 dtype={'FIPSTATE': str,\n",
    "                                        'FIPSCTY': str})\n",
    "print('rows, columns ', cbp_county_2015_df.shape)\n",
    "cbp_county_2015_df.head()"
   ]
  },
  {
   "cell_type": "markdown",
   "metadata": {},
   "source": [
    "#### Add GEOID column to County Business Patterns employment dataframe \n",
    "Use this GEOID to join employment data with centroids of county polygons"
   ]
  },
  {
   "cell_type": "code",
   "execution_count": 12,
   "metadata": {
    "collapsed": true
   },
   "outputs": [],
   "source": [
    "geoids = [state + county for state, county in zip(cbp_county_2015_df['FIPSTATE'], cbp_county_2015_df['FIPSCTY'])]\n",
    "cbp_county_2015_df['GEOID'] = geoids"
   ]
  },
  {
   "cell_type": "code",
   "execution_count": 13,
   "metadata": {},
   "outputs": [
    {
     "data": {
      "text/plain": [
       "(1824, 27)"
      ]
     },
     "execution_count": 13,
     "metadata": {},
     "output_type": "execute_result"
    }
   ],
   "source": [
    "# Select rows that contain the US Labor department code for ecommerce\n",
    "ecom_df = cbp_county_2015_df[cbp_county_2015_df['NAICS'] == '454111']\n",
    "ecom_df.shape"
   ]
  },
  {
   "cell_type": "code",
   "execution_count": 14,
   "metadata": {},
   "outputs": [
    {
     "data": {
      "text/plain": [
       "(854, 27)"
      ]
     },
     "execution_count": 14,
     "metadata": {},
     "output_type": "execute_result"
    }
   ],
   "source": [
    "# Select rows that have greater than zero ecommerce employees\n",
    "ecom_co_gt0_df = ecom_df[ecom_df.EMP > 0]\n",
    "ecom_co_gt0_df.shape"
   ]
  },
  {
   "cell_type": "code",
   "execution_count": 15,
   "metadata": {},
   "outputs": [
    {
     "name": "stdout",
     "output_type": "stream",
     "text": [
      "ecom_co_gt0_df rows,cols  (848, 27)\n"
     ]
    },
    {
     "data": {
      "text/html": [
       "<div>\n",
       "<style>\n",
       "    .dataframe thead tr:only-child th {\n",
       "        text-align: right;\n",
       "    }\n",
       "\n",
       "    .dataframe thead th {\n",
       "        text-align: left;\n",
       "    }\n",
       "\n",
       "    .dataframe tbody tr th {\n",
       "        vertical-align: top;\n",
       "    }\n",
       "</style>\n",
       "<table border=\"1\" class=\"dataframe\">\n",
       "  <thead>\n",
       "    <tr style=\"text-align: right;\">\n",
       "      <th></th>\n",
       "      <th>FIPSTATE</th>\n",
       "      <th>FIPSCTY</th>\n",
       "      <th>NAICS</th>\n",
       "      <th>EMPFLAG</th>\n",
       "      <th>EMP_NF</th>\n",
       "      <th>EMP</th>\n",
       "      <th>QP1_NF</th>\n",
       "      <th>QP1</th>\n",
       "      <th>AP_NF</th>\n",
       "      <th>AP</th>\n",
       "      <th>...</th>\n",
       "      <th>N250_499</th>\n",
       "      <th>N500_999</th>\n",
       "      <th>N1000</th>\n",
       "      <th>N1000_1</th>\n",
       "      <th>N1000_2</th>\n",
       "      <th>N1000_3</th>\n",
       "      <th>N1000_4</th>\n",
       "      <th>CENSTATE</th>\n",
       "      <th>CENCTY</th>\n",
       "      <th>GEOID</th>\n",
       "    </tr>\n",
       "  </thead>\n",
       "  <tbody>\n",
       "    <tr>\n",
       "      <th>1346</th>\n",
       "      <td>01</td>\n",
       "      <td>003</td>\n",
       "      <td>454111</td>\n",
       "      <td>NaN</td>\n",
       "      <td>G</td>\n",
       "      <td>139</td>\n",
       "      <td>G</td>\n",
       "      <td>759</td>\n",
       "      <td>H</td>\n",
       "      <td>2904</td>\n",
       "      <td>...</td>\n",
       "      <td>0</td>\n",
       "      <td>0</td>\n",
       "      <td>0</td>\n",
       "      <td>0</td>\n",
       "      <td>0</td>\n",
       "      <td>0</td>\n",
       "      <td>0</td>\n",
       "      <td>63</td>\n",
       "      <td>3</td>\n",
       "      <td>01003</td>\n",
       "    </tr>\n",
       "    <tr>\n",
       "      <th>4860</th>\n",
       "      <td>01</td>\n",
       "      <td>015</td>\n",
       "      <td>454111</td>\n",
       "      <td>NaN</td>\n",
       "      <td>J</td>\n",
       "      <td>3</td>\n",
       "      <td>J</td>\n",
       "      <td>15</td>\n",
       "      <td>G</td>\n",
       "      <td>149</td>\n",
       "      <td>...</td>\n",
       "      <td>0</td>\n",
       "      <td>0</td>\n",
       "      <td>0</td>\n",
       "      <td>0</td>\n",
       "      <td>0</td>\n",
       "      <td>0</td>\n",
       "      <td>0</td>\n",
       "      <td>63</td>\n",
       "      <td>15</td>\n",
       "      <td>01015</td>\n",
       "    </tr>\n",
       "    <tr>\n",
       "      <th>8958</th>\n",
       "      <td>01</td>\n",
       "      <td>031</td>\n",
       "      <td>454111</td>\n",
       "      <td>NaN</td>\n",
       "      <td>G</td>\n",
       "      <td>8</td>\n",
       "      <td>G</td>\n",
       "      <td>22</td>\n",
       "      <td>H</td>\n",
       "      <td>99</td>\n",
       "      <td>...</td>\n",
       "      <td>0</td>\n",
       "      <td>0</td>\n",
       "      <td>0</td>\n",
       "      <td>0</td>\n",
       "      <td>0</td>\n",
       "      <td>0</td>\n",
       "      <td>0</td>\n",
       "      <td>63</td>\n",
       "      <td>31</td>\n",
       "      <td>01031</td>\n",
       "    </tr>\n",
       "  </tbody>\n",
       "</table>\n",
       "<p>3 rows × 27 columns</p>\n",
       "</div>"
      ],
      "text/plain": [
       "     FIPSTATE FIPSCTY   NAICS EMPFLAG EMP_NF  EMP QP1_NF  QP1 AP_NF    AP  \\\n",
       "1346       01     003  454111     NaN      G  139      G  759     H  2904   \n",
       "4860       01     015  454111     NaN      J    3      J   15     G   149   \n",
       "8958       01     031  454111     NaN      G    8      G   22     H    99   \n",
       "\n",
       "      ...    N250_499  N500_999  N1000  N1000_1  N1000_2  N1000_3  N1000_4  \\\n",
       "1346  ...           0         0      0        0        0        0        0   \n",
       "4860  ...           0         0      0        0        0        0        0   \n",
       "8958  ...           0         0      0        0        0        0        0   \n",
       "\n",
       "      CENSTATE  CENCTY  GEOID  \n",
       "1346        63       3  01003  \n",
       "4860        63      15  01015  \n",
       "8958        63      31  01031  \n",
       "\n",
       "[3 rows x 27 columns]"
      ]
     },
     "execution_count": 15,
     "metadata": {},
     "output_type": "execute_result"
    }
   ],
   "source": [
    "# Remove rows that are outside of the continental US\n",
    "ecom_co_gt0_df = ecom_co_gt0_df[np.logical_not(ecom_co_gt0_df['FIPSTATE'].isin(fips_states_outside))]\n",
    "print('ecom_co_gt0_df rows,cols ', ecom_co_gt0_df.shape)\n",
    "ecom_co_gt0_df.head(3)"
   ]
  },
  {
   "cell_type": "markdown",
   "metadata": {},
   "source": [
    "### Distribution of Ecommerce employees"
   ]
  },
  {
   "cell_type": "code",
   "execution_count": 16,
   "metadata": {},
   "outputs": [
    {
     "data": {
      "text/plain": [
       "count      848.000000\n",
       "mean       245.204009\n",
       "std        805.857876\n",
       "min          1.000000\n",
       "25%         15.000000\n",
       "50%         43.500000\n",
       "75%        147.000000\n",
       "max      15882.000000\n",
       "Name: EMP, dtype: float64"
      ]
     },
     "execution_count": 16,
     "metadata": {},
     "output_type": "execute_result"
    }
   ],
   "source": [
    "# Statistics after dropping county rows\n",
    "# with zero ecommerce employees\n",
    "ecom_co_gt0_df.EMP.describe()"
   ]
  },
  {
   "cell_type": "code",
   "execution_count": 18,
   "metadata": {},
   "outputs": [
    {
     "data": {
      "text/plain": [
       "<matplotlib.axes._subplots.AxesSubplot at 0x7fbffe752358>"
      ]
     },
     "execution_count": 18,
     "metadata": {},
     "output_type": "execute_result"
    },
    {
     "data": {
      "image/png": "[encoded data removed]",
      "text/plain": [
       "<matplotlib.figure.Figure at 0x7fc00787f6a0>"
      ]
     },
     "metadata": {},
     "output_type": "display_data"
    }
   ],
   "source": [
    "color_def = dict(boxes='DarkGreen', whiskers='DarkOrange',\n",
    "                 medians='DarkBlue', caps='Gray')\n",
    "ecom_co_gt0_df['EMP'].plot.box(color=color_def, vert=False, figsize=(12,2))"
   ]
  },
  {
   "cell_type": "code",
   "execution_count": 20,
   "metadata": {},
   "outputs": [
    {
     "data": {
      "text/plain": [
       "<matplotlib.axes._subplots.AxesSubplot at 0x7fbffe605550>"
      ]
     },
     "execution_count": 20,
     "metadata": {},
     "output_type": "execute_result"
    },
    {
     "data": {
      "image/png": "[encoded data removed]",
      "text/plain": [
       "<matplotlib.figure.Figure at 0x7fbffe596470>"
      ]
     },
     "metadata": {},
     "output_type": "display_data"
    }
   ],
   "source": [
    "ecom_co_noOutliers = ecom_co_gt0_df[ecom_co_gt0_df.EMP < 1000]\n",
    "ecom_co_noOutliers.EMP.plot.box(color=color_def, vert=False, figsize=(12,2))"
   ]
  },
  {
   "cell_type": "code",
   "execution_count": 22,
   "metadata": {},
   "outputs": [
    {
     "data": {
      "text/plain": [
       "<matplotlib.axes._subplots.AxesSubplot at 0x7fbffe23f390>"
      ]
     },
     "execution_count": 22,
     "metadata": {},
     "output_type": "execute_result"
    },
    {
     "data": {
      "image/png": "[encoded data removed]",
      "text/plain": [
       "<matplotlib.figure.Figure at 0x7fbffe2efc88>"
      ]
     },
     "metadata": {},
     "output_type": "display_data"
    }
   ],
   "source": [
    "ecom_co_noOutliers = ecom_co_gt0_df[ecom_co_gt0_df.EMP < 1000]\n",
    "ecom_co_noOutliers.EMP.plot.hist(bins=100, figsize=(12,4))"
   ]
  },
  {
   "cell_type": "code",
   "execution_count": 21,
   "metadata": {},
   "outputs": [
    {
     "data": {
      "text/plain": [
       "<matplotlib.axes._subplots.AxesSubplot at 0x7fbffe481da0>"
      ]
     },
     "execution_count": 21,
     "metadata": {},
     "output_type": "execute_result"
    },
    {
     "data": {
      "image/png": "[encoded data removed]",
      "text/plain": [
       "<matplotlib.figure.Figure at 0x7fc0074d8eb8>"
      ]
     },
     "metadata": {},
     "output_type": "display_data"
    }
   ],
   "source": [
    "ecom_co_noOutliers = ecom_co_gt0_df[ecom_co_gt0_df.EMP < 1000]\n",
    "ecom_co_noOutliers.EMP.plot.hist(bins=100, cumulative=True, figsize=(12,4))"
   ]
  },
  {
   "cell_type": "markdown",
   "metadata": {},
   "source": [
    "### Join ecommerce employment numbers by county with county polygon centroids"
   ]
  },
  {
   "cell_type": "code",
   "execution_count": 23,
   "metadata": {},
   "outputs": [
    {
     "name": "stdout",
     "output_type": "stream",
     "text": [
      "county_ecom_df rows,cols (848, 5)\n"
     ]
    },
    {
     "data": {
      "text/html": [
       "<div>\n",
       "<style>\n",
       "    .dataframe thead tr:only-child th {\n",
       "        text-align: right;\n",
       "    }\n",
       "\n",
       "    .dataframe thead th {\n",
       "        text-align: left;\n",
       "    }\n",
       "\n",
       "    .dataframe tbody tr th {\n",
       "        vertical-align: top;\n",
       "    }\n",
       "</style>\n",
       "<table border=\"1\" class=\"dataframe\">\n",
       "  <thead>\n",
       "    <tr style=\"text-align: right;\">\n",
       "      <th></th>\n",
       "      <th>EMP</th>\n",
       "      <th>NAME</th>\n",
       "      <th>geometry</th>\n",
       "      <th>lat</th>\n",
       "      <th>lon</th>\n",
       "    </tr>\n",
       "    <tr>\n",
       "      <th>GEOID</th>\n",
       "      <th></th>\n",
       "      <th></th>\n",
       "      <th></th>\n",
       "      <th></th>\n",
       "      <th></th>\n",
       "    </tr>\n",
       "  </thead>\n",
       "  <tbody>\n",
       "    <tr>\n",
       "      <th>01003</th>\n",
       "      <td>139</td>\n",
       "      <td>Baldwin</td>\n",
       "      <td>POINT (-5207032.42602911 -6268528.018109216)</td>\n",
       "      <td>-6.268528e+06</td>\n",
       "      <td>-5.207032e+06</td>\n",
       "    </tr>\n",
       "    <tr>\n",
       "      <th>01015</th>\n",
       "      <td>3</td>\n",
       "      <td>Calhoun</td>\n",
       "      <td>POINT (-5072236.07043945 -5912462.910145535)</td>\n",
       "      <td>-5.912463e+06</td>\n",
       "      <td>-5.072236e+06</td>\n",
       "    </tr>\n",
       "    <tr>\n",
       "      <th>01031</th>\n",
       "      <td>8</td>\n",
       "      <td>Coffee</td>\n",
       "      <td>POINT (-5050726.247782185 -6173797.708518975)</td>\n",
       "      <td>-6.173798e+06</td>\n",
       "      <td>-5.050726e+06</td>\n",
       "    </tr>\n",
       "  </tbody>\n",
       "</table>\n",
       "</div>"
      ],
      "text/plain": [
       "       EMP     NAME                                       geometry  \\\n",
       "GEOID                                                                \n",
       "01003  139  Baldwin   POINT (-5207032.42602911 -6268528.018109216)   \n",
       "01015    3  Calhoun   POINT (-5072236.07043945 -5912462.910145535)   \n",
       "01031    8   Coffee  POINT (-5050726.247782185 -6173797.708518975)   \n",
       "\n",
       "                lat           lon  \n",
       "GEOID                              \n",
       "01003 -6.268528e+06 -5.207032e+06  \n",
       "01015 -5.912463e+06 -5.072236e+06  \n",
       "01031 -6.173798e+06 -5.050726e+06  "
      ]
     },
     "execution_count": 23,
     "metadata": {},
     "output_type": "execute_result"
    }
   ],
   "source": [
    "left_cols = ['GEOID', 'EMP']\n",
    "county_ecom_df = ecom_co_gt0_df[left_cols].set_index('GEOID').join(\n",
    "                                          county_centers_df.set_index('GEOID'),\n",
    "                                          lsuffix='_e' )\n",
    "print('county_ecom_df rows,cols', county_ecom_df.shape)\n",
    "county_ecom_df.head(3)"
   ]
  },
  {
   "cell_type": "markdown",
   "metadata": {},
   "source": [
    "### Population estimates by CBSA\n",
    "We want to use these population estimates to select polygons for metropolitan areas with more than 1M people as well as metropolitan areas with populations between 250k and 1M"
   ]
  },
  {
   "cell_type": "code",
   "execution_count": 24,
   "metadata": {},
   "outputs": [
    {
     "name": "stdout",
     "output_type": "stream",
     "text": [
      "pop_cbsa_2015_df rows,cols  (2792, 4)\n"
     ]
    },
    {
     "data": {
      "text/html": [
       "<div>\n",
       "<style>\n",
       "    .dataframe thead tr:only-child th {\n",
       "        text-align: right;\n",
       "    }\n",
       "\n",
       "    .dataframe thead th {\n",
       "        text-align: left;\n",
       "    }\n",
       "\n",
       "    .dataframe tbody tr th {\n",
       "        vertical-align: top;\n",
       "    }\n",
       "</style>\n",
       "<table border=\"1\" class=\"dataframe\">\n",
       "  <thead>\n",
       "    <tr style=\"text-align: right;\">\n",
       "      <th></th>\n",
       "      <th>CBSA</th>\n",
       "      <th>NAME</th>\n",
       "      <th>POPESTIMATE2015</th>\n",
       "      <th>RESIDUAL2015</th>\n",
       "    </tr>\n",
       "  </thead>\n",
       "  <tbody>\n",
       "    <tr>\n",
       "      <th>0</th>\n",
       "      <td>10180</td>\n",
       "      <td>Abilene, TX</td>\n",
       "      <td>169893</td>\n",
       "      <td>-13</td>\n",
       "    </tr>\n",
       "    <tr>\n",
       "      <th>1</th>\n",
       "      <td>10180</td>\n",
       "      <td>Callahan County, TX</td>\n",
       "      <td>13596</td>\n",
       "      <td>-9</td>\n",
       "    </tr>\n",
       "    <tr>\n",
       "      <th>2</th>\n",
       "      <td>10180</td>\n",
       "      <td>Jones County, TX</td>\n",
       "      <td>19972</td>\n",
       "      <td>-20</td>\n",
       "    </tr>\n",
       "  </tbody>\n",
       "</table>\n",
       "</div>"
      ],
      "text/plain": [
       "    CBSA                 NAME POPESTIMATE2015 RESIDUAL2015\n",
       "0  10180          Abilene, TX          169893          -13\n",
       "1  10180  Callahan County, TX           13596           -9\n",
       "2  10180     Jones County, TX           19972          -20"
      ]
     },
     "execution_count": 24,
     "metadata": {},
     "output_type": "execute_result"
    }
   ],
   "source": [
    "pop_cbsa_2015_df = pd.read_csv('../../data/census/cbsa-est2016-alldata-alt.csv',\n",
    "                               encoding='latin-1',\n",
    "                               usecols=['CBSA','NAME','POPESTIMATE2015','RESIDUAL2015'],\n",
    "                               dtype={'CBSA':str,\n",
    "                                      'NAME':str,\n",
    "                                      'POPESTIMATE2015':object,\n",
    "                                      'RESIDUAL2015':object})\n",
    "print('pop_cbsa_2015_df rows,cols ', pop_cbsa_2015_df.shape)\n",
    "pop_cbsa_2015_df.head(3)"
   ]
  },
  {
   "cell_type": "code",
   "execution_count": 25,
   "metadata": {},
   "outputs": [
    {
     "name": "stdout",
     "output_type": "stream",
     "text": [
      "<class 'pandas.core.frame.DataFrame'>\n",
      "RangeIndex: 2792 entries, 0 to 2791\n",
      "Data columns (total 4 columns):\n",
      "CBSA               2789 non-null object\n",
      "NAME               2790 non-null object\n",
      "POPESTIMATE2015    2789 non-null object\n",
      "RESIDUAL2015       2789 non-null object\n",
      "dtypes: object(4)\n",
      "memory usage: 87.3+ KB\n"
     ]
    }
   ],
   "source": [
    "pop_cbsa_2015_df.info()"
   ]
  },
  {
   "cell_type": "code",
   "execution_count": 26,
   "metadata": {
    "collapsed": true
   },
   "outputs": [],
   "source": [
    "pop_cbsa_2015_df.dropna(axis=0, inplace=True)\n",
    "pop_cbsa_2015_df['CBSA'] = pop_cbsa_2015_df['CBSA'].astype('str')"
   ]
  },
  {
   "cell_type": "code",
   "execution_count": 27,
   "metadata": {
    "collapsed": true
   },
   "outputs": [],
   "source": [
    "# Remove CBSA ( CBSA consist of one or more counties ) for Alaska and Hawaii\n",
    "pop_cbsa_2015_df = pop_cbsa_2015_df[np.logical_not(np.logical_or(pop_cbsa_2015_df['NAME'].str.endswith('AK'),\n",
    "                                     pop_cbsa_2015_df['NAME'].str.endswith('HI')))]"
   ]
  },
  {
   "cell_type": "code",
   "execution_count": 28,
   "metadata": {},
   "outputs": [
    {
     "name": "stdout",
     "output_type": "stream",
     "text": [
      "cbsa_pop_df rows,cols  (2757, 11)\n"
     ]
    },
    {
     "data": {
      "text/html": [
       "<div>\n",
       "<style>\n",
       "    .dataframe thead tr:only-child th {\n",
       "        text-align: right;\n",
       "    }\n",
       "\n",
       "    .dataframe thead th {\n",
       "        text-align: left;\n",
       "    }\n",
       "\n",
       "    .dataframe tbody tr th {\n",
       "        vertical-align: top;\n",
       "    }\n",
       "</style>\n",
       "<table border=\"1\" class=\"dataframe\">\n",
       "  <thead>\n",
       "    <tr style=\"text-align: right;\">\n",
       "      <th></th>\n",
       "      <th>CSAFP</th>\n",
       "      <th>CBSAFP</th>\n",
       "      <th>AFFGEOID</th>\n",
       "      <th>NAME</th>\n",
       "      <th>LSAD</th>\n",
       "      <th>ALAND</th>\n",
       "      <th>AWATER</th>\n",
       "      <th>geometry</th>\n",
       "      <th>NAME_pop</th>\n",
       "      <th>POPESTIMATE2015</th>\n",
       "      <th>RESIDUAL2015</th>\n",
       "    </tr>\n",
       "  </thead>\n",
       "  <tbody>\n",
       "    <tr>\n",
       "      <th>10100</th>\n",
       "      <td>None</td>\n",
       "      <td>10100</td>\n",
       "      <td>310M200US10100</td>\n",
       "      <td>Aberdeen, SD</td>\n",
       "      <td>M2</td>\n",
       "      <td>7352936358</td>\n",
       "      <td>111452523</td>\n",
       "      <td>POLYGON ((-99.70770499999999 45.593391, -98.72...</td>\n",
       "      <td>Aberdeen, SD</td>\n",
       "      <td>42708</td>\n",
       "      <td>-20</td>\n",
       "    </tr>\n",
       "    <tr>\n",
       "      <th>10100</th>\n",
       "      <td>None</td>\n",
       "      <td>10100</td>\n",
       "      <td>310M200US10100</td>\n",
       "      <td>Aberdeen, SD</td>\n",
       "      <td>M2</td>\n",
       "      <td>7352936358</td>\n",
       "      <td>111452523</td>\n",
       "      <td>POLYGON ((-99.70770499999999 45.593391, -98.72...</td>\n",
       "      <td>Brown County, SD</td>\n",
       "      <td>38699</td>\n",
       "      <td>-1</td>\n",
       "    </tr>\n",
       "  </tbody>\n",
       "</table>\n",
       "</div>"
      ],
      "text/plain": [
       "      CSAFP CBSAFP        AFFGEOID          NAME LSAD       ALAND     AWATER  \\\n",
       "10100  None  10100  310M200US10100  Aberdeen, SD   M2  7352936358  111452523   \n",
       "10100  None  10100  310M200US10100  Aberdeen, SD   M2  7352936358  111452523   \n",
       "\n",
       "                                                geometry          NAME_pop  \\\n",
       "10100  POLYGON ((-99.70770499999999 45.593391, -98.72...      Aberdeen, SD   \n",
       "10100  POLYGON ((-99.70770499999999 45.593391, -98.72...  Brown County, SD   \n",
       "\n",
       "      POPESTIMATE2015 RESIDUAL2015  \n",
       "10100           42708          -20  \n",
       "10100           38699           -1  "
      ]
     },
     "execution_count": 28,
     "metadata": {},
     "output_type": "execute_result"
    }
   ],
   "source": [
    "cbsa_pop_df = us_cbsa_df.set_index('GEOID').join(pop_cbsa_2015_df.set_index('CBSA'),\n",
    "                                       how='left',\n",
    "                                       rsuffix='_pop')\n",
    "print('cbsa_pop_df rows,cols ', cbsa_pop_df.shape)\n",
    "cbsa_pop_df.head(2)"
   ]
  },
  {
   "cell_type": "code",
   "execution_count": 29,
   "metadata": {},
   "outputs": [
    {
     "data": {
      "text/html": [
       "<div>\n",
       "<style>\n",
       "    .dataframe thead tr:only-child th {\n",
       "        text-align: right;\n",
       "    }\n",
       "\n",
       "    .dataframe thead th {\n",
       "        text-align: left;\n",
       "    }\n",
       "\n",
       "    .dataframe tbody tr th {\n",
       "        vertical-align: top;\n",
       "    }\n",
       "</style>\n",
       "<table border=\"1\" class=\"dataframe\">\n",
       "  <thead>\n",
       "    <tr style=\"text-align: right;\">\n",
       "      <th></th>\n",
       "      <th>data type</th>\n",
       "      <th>number of null values</th>\n",
       "    </tr>\n",
       "  </thead>\n",
       "  <tbody>\n",
       "    <tr>\n",
       "      <th>CSAFP</th>\n",
       "      <td>object</td>\n",
       "      <td>1052</td>\n",
       "    </tr>\n",
       "    <tr>\n",
       "      <th>CBSAFP</th>\n",
       "      <td>object</td>\n",
       "      <td>0</td>\n",
       "    </tr>\n",
       "    <tr>\n",
       "      <th>AFFGEOID</th>\n",
       "      <td>object</td>\n",
       "      <td>0</td>\n",
       "    </tr>\n",
       "    <tr>\n",
       "      <th>NAME</th>\n",
       "      <td>object</td>\n",
       "      <td>0</td>\n",
       "    </tr>\n",
       "    <tr>\n",
       "      <th>LSAD</th>\n",
       "      <td>object</td>\n",
       "      <td>0</td>\n",
       "    </tr>\n",
       "    <tr>\n",
       "      <th>ALAND</th>\n",
       "      <td>int64</td>\n",
       "      <td>0</td>\n",
       "    </tr>\n",
       "    <tr>\n",
       "      <th>AWATER</th>\n",
       "      <td>int64</td>\n",
       "      <td>0</td>\n",
       "    </tr>\n",
       "    <tr>\n",
       "      <th>geometry</th>\n",
       "      <td>object</td>\n",
       "      <td>0</td>\n",
       "    </tr>\n",
       "    <tr>\n",
       "      <th>NAME_pop</th>\n",
       "      <td>object</td>\n",
       "      <td>20</td>\n",
       "    </tr>\n",
       "    <tr>\n",
       "      <th>POPESTIMATE2015</th>\n",
       "      <td>object</td>\n",
       "      <td>20</td>\n",
       "    </tr>\n",
       "    <tr>\n",
       "      <th>RESIDUAL2015</th>\n",
       "      <td>object</td>\n",
       "      <td>20</td>\n",
       "    </tr>\n",
       "  </tbody>\n",
       "</table>\n",
       "</div>"
      ],
      "text/plain": [
       "                data type  number of null values\n",
       "CSAFP              object                   1052\n",
       "CBSAFP             object                      0\n",
       "AFFGEOID           object                      0\n",
       "NAME               object                      0\n",
       "LSAD               object                      0\n",
       "ALAND               int64                      0\n",
       "AWATER              int64                      0\n",
       "geometry           object                      0\n",
       "NAME_pop           object                     20\n",
       "POPESTIMATE2015    object                     20\n",
       "RESIDUAL2015       object                     20"
      ]
     },
     "execution_count": 29,
     "metadata": {},
     "output_type": "execute_result"
    }
   ],
   "source": [
    "# Number of null values and data types per column\n",
    "# You can use DataFrame.info() as well\n",
    "null_df = pd.DataFrame({'number of null values': cbsa_pop_df.isnull().sum(),\n",
    "                        'data type' : cbsa_pop_df.dtypes})\n",
    "null_df"
   ]
  },
  {
   "cell_type": "code",
   "execution_count": 30,
   "metadata": {},
   "outputs": [
    {
     "name": "stdout",
     "output_type": "stream",
     "text": [
      "<class 'geopandas.geodataframe.GeoDataFrame'>\n",
      "Index: 2737 entries, 10100 to 49820\n",
      "Data columns (total 10 columns):\n",
      "CBSAFP             2737 non-null object\n",
      "AFFGEOID           2737 non-null object\n",
      "NAME               2737 non-null object\n",
      "LSAD               2737 non-null object\n",
      "ALAND              2737 non-null int64\n",
      "AWATER             2737 non-null int64\n",
      "geometry           2737 non-null object\n",
      "NAME_pop           2737 non-null object\n",
      "POPESTIMATE2015    2737 non-null object\n",
      "RESIDUAL2015       2737 non-null object\n",
      "dtypes: int64(2), object(8)\n",
      "memory usage: 235.2+ KB\n"
     ]
    }
   ],
   "source": [
    "# Remove CSAFP column so that we can easily drop the\n",
    "# population fields that contain Nan values\n",
    "# These Nan values prevent me from doing a simple select on \n",
    "# field POPESTIMATE2015\n",
    "cbsa_pop_df.drop(labels=['CSAFP',],\n",
    "                 axis=1,\n",
    "                 inplace=True)\n",
    "# Drop the rows that contain Null, Nan\n",
    "cbsa_pop_df.dropna(axis=0,\n",
    "                   inplace=True)\n",
    "cbsa_pop_df.info()"
   ]
  },
  {
   "cell_type": "markdown",
   "metadata": {},
   "source": [
    "### Create two categories large and medium CBSA"
   ]
  },
  {
   "cell_type": "code",
   "execution_count": 31,
   "metadata": {
    "collapsed": true
   },
   "outputs": [],
   "source": [
    "cbsa_pop_df['POPESTIMATE2015'] = cbsa_pop_df['POPESTIMATE2015'].astype('int')\n",
    "cbsa_pop_large_df = cbsa_pop_df[cbsa_pop_df['POPESTIMATE2015'] > 999999]\n",
    "cbsa_pop_medium_df = cbsa_pop_df[np.logical_and(cbsa_pop_df['POPESTIMATE2015'] > 250000,\n",
    "                                 cbsa_pop_df['POPESTIMATE2015'] < 1000000)]"
   ]
  },
  {
   "cell_type": "markdown",
   "metadata": {},
   "source": [
    "### List of cities and their location\n"
   ]
  },
  {
   "cell_type": "code",
   "execution_count": 32,
   "metadata": {},
   "outputs": [
    {
     "name": "stdout",
     "output_type": "stream",
     "text": [
      "cities_df rows,cols  (22, 5)\n"
     ]
    },
    {
     "data": {
      "text/html": [
       "<div>\n",
       "<style>\n",
       "    .dataframe thead tr:only-child th {\n",
       "        text-align: right;\n",
       "    }\n",
       "\n",
       "    .dataframe thead th {\n",
       "        text-align: left;\n",
       "    }\n",
       "\n",
       "    .dataframe tbody tr th {\n",
       "        vertical-align: top;\n",
       "    }\n",
       "</style>\n",
       "<table border=\"1\" class=\"dataframe\">\n",
       "  <thead>\n",
       "    <tr style=\"text-align: right;\">\n",
       "      <th></th>\n",
       "      <th>name</th>\n",
       "      <th>lon</th>\n",
       "      <th>lat</th>\n",
       "      <th>nx</th>\n",
       "      <th>ny</th>\n",
       "    </tr>\n",
       "  </thead>\n",
       "  <tbody>\n",
       "    <tr>\n",
       "      <th>0</th>\n",
       "      <td>Seattle</td>\n",
       "      <td>-122.3321</td>\n",
       "      <td>47.60621</td>\n",
       "      <td>-1.5</td>\n",
       "      <td>0.0</td>\n",
       "    </tr>\n",
       "    <tr>\n",
       "      <th>1</th>\n",
       "      <td>Portland</td>\n",
       "      <td>-122.6765</td>\n",
       "      <td>45.52306</td>\n",
       "      <td>-1.5</td>\n",
       "      <td>0.0</td>\n",
       "    </tr>\n",
       "    <tr>\n",
       "      <th>2</th>\n",
       "      <td>Boise</td>\n",
       "      <td>-116.2146</td>\n",
       "      <td>43.61871</td>\n",
       "      <td>1.2</td>\n",
       "      <td>-0.5</td>\n",
       "    </tr>\n",
       "  </tbody>\n",
       "</table>\n",
       "</div>"
      ],
      "text/plain": [
       "       name       lon       lat   nx   ny\n",
       "0   Seattle -122.3321  47.60621 -1.5  0.0\n",
       "1  Portland -122.6765  45.52306 -1.5  0.0\n",
       "2     Boise -116.2146  43.61871  1.2 -0.5"
      ]
     },
     "execution_count": 32,
     "metadata": {},
     "output_type": "execute_result"
    }
   ],
   "source": [
    "cities_df = pd.read_csv('../../data/cities.csv')\n",
    "print('cities_df rows,cols ', cities_df.shape)\n",
    "cities_df.head(3)"
   ]
  },
  {
   "cell_type": "markdown",
   "metadata": {},
   "source": [
    "### Add GeoSeries type geometry column to cities dataframe"
   ]
  },
  {
   "cell_type": "code",
   "execution_count": 33,
   "metadata": {},
   "outputs": [
    {
     "name": "stdout",
     "output_type": "stream",
     "text": [
      "cities_df rows,cols  (22, 6)\n"
     ]
    },
    {
     "data": {
      "text/html": [
       "<div>\n",
       "<style>\n",
       "    .dataframe thead tr:only-child th {\n",
       "        text-align: right;\n",
       "    }\n",
       "\n",
       "    .dataframe thead th {\n",
       "        text-align: left;\n",
       "    }\n",
       "\n",
       "    .dataframe tbody tr th {\n",
       "        vertical-align: top;\n",
       "    }\n",
       "</style>\n",
       "<table border=\"1\" class=\"dataframe\">\n",
       "  <thead>\n",
       "    <tr style=\"text-align: right;\">\n",
       "      <th></th>\n",
       "      <th>name</th>\n",
       "      <th>lon</th>\n",
       "      <th>lat</th>\n",
       "      <th>nx</th>\n",
       "      <th>ny</th>\n",
       "      <th>geometry</th>\n",
       "    </tr>\n",
       "  </thead>\n",
       "  <tbody>\n",
       "    <tr>\n",
       "      <th>0</th>\n",
       "      <td>Seattle</td>\n",
       "      <td>-7.970039e+06</td>\n",
       "      <td>-4.169770e+06</td>\n",
       "      <td>-1.5</td>\n",
       "      <td>0.0</td>\n",
       "      <td>POINT (-7970039.371280489 -4169769.849901617)</td>\n",
       "    </tr>\n",
       "    <tr>\n",
       "      <th>1</th>\n",
       "      <td>Portland</td>\n",
       "      <td>-8.064721e+06</td>\n",
       "      <td>-4.386525e+06</td>\n",
       "      <td>-1.5</td>\n",
       "      <td>0.0</td>\n",
       "      <td>POINT (-8064721.061723392 -4386524.988449218)</td>\n",
       "    </tr>\n",
       "    <tr>\n",
       "      <th>2</th>\n",
       "      <td>Boise</td>\n",
       "      <td>-7.632891e+06</td>\n",
       "      <td>-4.725847e+06</td>\n",
       "      <td>1.2</td>\n",
       "      <td>-0.5</td>\n",
       "      <td>POINT (-7632890.656705001 -4725846.788010852)</td>\n",
       "    </tr>\n",
       "  </tbody>\n",
       "</table>\n",
       "</div>"
      ],
      "text/plain": [
       "       name           lon           lat   nx   ny  \\\n",
       "0   Seattle -7.970039e+06 -4.169770e+06 -1.5  0.0   \n",
       "1  Portland -8.064721e+06 -4.386525e+06 -1.5  0.0   \n",
       "2     Boise -7.632891e+06 -4.725847e+06  1.2 -0.5   \n",
       "\n",
       "                                        geometry  \n",
       "0  POINT (-7970039.371280489 -4169769.849901617)  \n",
       "1  POINT (-8064721.061723392 -4386524.988449218)  \n",
       "2  POINT (-7632890.656705001 -4725846.788010852)  "
      ]
     },
     "execution_count": 33,
     "metadata": {},
     "output_type": "execute_result"
    }
   ],
   "source": [
    "from shapely.geometry import Point\n",
    "\n",
    "target_crs = {'datum':'WGS84', 'no_defs':True, 'proj':'aea', 'lat_1':35, 'lat_2':55, 'lat_0':45, 'lon_0':10}\n",
    "angle_rot = 75\n",
    "center=(-98.5795,39.8283)\n",
    "\n",
    "points = gpd.GeoSeries([Point(lon,lat) for lon,lat in zip(cities_df.lon, cities_df.lat)])\n",
    "points.crs = us_state_df.crs\n",
    "points_albers = points.to_crs(target_crs).rotate(angle=angle_rot, origin=center)\n",
    "cities_df['geometry'] = points_albers\n",
    "lons, lats = [list(t) for t in zip(*map(getXY, points_albers))]\n",
    "cities_df['lon'] = lons\n",
    "cities_df['lat'] = lats\n",
    "print('cities_df rows,cols ', cities_df.shape)\n",
    "cities_df.head(3)"
   ]
  },
  {
   "cell_type": "code",
   "execution_count": 34,
   "metadata": {
    "collapsed": true
   },
   "outputs": [],
   "source": [
    "#https://stackoverflow.com/questions/8671808/matplotlib-avoiding-overlapping-datapoints-in-a-scatter-dot-beeswarm-plot\n",
    "def rand_jitter(arr):\n",
    "    stdev = .01*(max(arr)-min(arr))\n",
    "    return arr + np.random.randn(len(arr)) * stdev\n",
    "\n",
    "def jitter(x, y, s=20, c='b', marker='o', cmap=None, norm=None, vmin=None, vmax=None, alpha=None, linewidths=None, verts=None, hold=None, **kwargs):\n",
    "    return scatter(rand_jitter(x), rand_jitter(y), s=s, c=c, marker=marker, cmap=cmap, norm=norm, vmin=vmin, vmax=vmax, alpha=alpha, linewidths=linewidths, verts=verts, hold=hold, **kwargs)"
   ]
  },
  {
   "cell_type": "markdown",
   "metadata": {},
   "source": [
    "### Plot layers on state map"
   ]
  },
  {
   "cell_type": "code",
   "execution_count": 35,
   "metadata": {},
   "outputs": [
    {
     "data": {
      "image/png": "[encoded data removed]",
      "text/plain": [
       "<matplotlib.figure.Figure at 0x7fbffddf34e0>"
      ]
     },
     "metadata": {},
     "output_type": "display_data"
    }
   ],
   "source": [
    "fig, amap = plt.subplots(1, 1, figsize = (14,12))\n",
    "amap.set_aspect('equal')\n",
    "amap.set_axis_off()\n",
    "angle_rot = 75\n",
    "center=(-98.5795,39.8283)\n",
    "\n",
    "\n",
    "# State map of the continental US\n",
    "us_cstate_df.to_crs(target_crs).rotate(angle=angle_rot, origin=center).plot(ax=amap,\n",
    "                  zorder=1,\n",
    "                  linewidth = 1,\n",
    "                  facecolor=\"#EBEBEB\",\n",
    "                  edgecolor=\"white\")\n",
    "\n",
    "# Core base statistical areas with population > 1M\n",
    "cbsa_pop_large_df.to_crs(target_crs).rotate(angle=angle_rot, origin=center).plot(ax=amap,\n",
    "                  zorder=3,\n",
    "                  linewidth=0,\n",
    "                  alpha=0.6,                                                               \n",
    "                  facecolor=\"#9AB7D6\")\n",
    "\n",
    "# Core base statistical areas with population > 250k and < 1M\n",
    "cbsa_pop_medium_df.to_crs(target_crs).rotate(angle=angle_rot, origin=center).plot(ax=amap,\n",
    "                  zorder=4,                                                                \n",
    "                  linewidth=0,\n",
    "                  alpha=0.6,                                                                \n",
    "                  facecolor=\"#CFDBEB\")\n",
    "\n",
    "# Employment of ecommerce workers per point by county centroid \n",
    "# The spatial coordinates have already been projected to Albers equal area\n",
    "# and rotated above .  This is so that we can use the matplotlib scatter function                           \n",
    "for lon,lat,emp in zip(county_ecom_df['lon'],\n",
    "                       county_ecom_df['lat'],\n",
    "                       county_ecom_df['EMP']):\n",
    "    amap.scatter(lon, lat, s=emp/40,\n",
    "              zorder = 6,\n",
    "              alpha=1.0,\n",
    "              edgecolors=\"white\",\n",
    "              color='orange')\n",
    "        \n",
    "# City markers\n",
    "points.to_crs(target_crs).rotate(angle=angle_rot, origin=center).plot(ax=amap,\n",
    "                     zorder=8,\n",
    "                     marker='o',\n",
    "                     color='black',\n",
    "                     markersize=4)\n",
    "\n",
    "# City names\n",
    "# The spatial coordinates have already been projected to Albers equal area\n",
    "# and rotated above .  This is so that we can use the matplotlib text function \n",
    "for lon,lat,name in zip(cities_df.lon,\n",
    "                        cities_df.lat,\n",
    "                        cities_df.name):\n",
    "    amap.text(lon, lat, name,\n",
    "          fontsize=10, zorder=10)"
   ]
  },
  {
   "cell_type": "code",
   "execution_count": null,
   "metadata": {
    "collapsed": true
   },
   "outputs": [],
   "source": []
  }
 ],
 "metadata": {
  "kernelspec": {
   "display_name": "python geopandas",
   "language": "python",
   "name": "geopandas"
  },
  "language_info": {
   "codemirror_mode": {
    "name": "ipython",
    "version": 3
   },
   "file_extension": ".py",
   "mimetype": "text/x-python",
   "name": "python",
   "nbconvert_exporter": "python",
   "pygments_lexer": "ipython3",
   "version": "3.6.2"
  }
 },
 "nbformat": 4,
 "nbformat_minor": 2
}
