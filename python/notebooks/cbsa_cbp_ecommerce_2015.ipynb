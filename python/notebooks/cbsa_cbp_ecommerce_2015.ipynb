{
 "cells": [
  {
   "cell_type": "code",
   "execution_count": 1,
   "metadata": {},
   "outputs": [
    {
     "name": "stdout",
     "output_type": "stream",
     "text": [
      "python version  3.6.2\n",
      "numpy version  1.13.1\n",
      "pandas version  0.20.3\n"
     ]
    }
   ],
   "source": [
    "import pandas as pd\n",
    "import numpy as np\n",
    "import sys\n",
    "\n",
    "version = \".\".join(map(str, sys.version_info[:3]))\n",
    "print('python version ', version)\n",
    "print('numpy version ', np.__version__)\n",
    "print('pandas version ',pd.__version__)"
   ]
  },
  {
   "cell_type": "code",
   "execution_count": 2,
   "metadata": {},
   "outputs": [
    {
     "name": "stdout",
     "output_type": "stream",
     "text": [
      "geopandas version  0.2.1\n"
     ]
    }
   ],
   "source": [
    "import geopandas as gpd\n",
    "import pysal\n",
    "\n",
    "print(\"geopandas version \", gpd.__version__)"
   ]
  },
  {
   "cell_type": "code",
   "execution_count": 3,
   "metadata": {
    "collapsed": true
   },
   "outputs": [],
   "source": [
    "import matplotlib.pyplot as plt\n",
    "\n",
    "# Tell the kernel that we want the plots to be in this notebook\n",
    "# and not in an external window\n",
    "%matplotlib inline"
   ]
  },
  {
   "cell_type": "markdown",
   "metadata": {},
   "source": [
    "### US State shapefile\n",
    "We want the US states shapefile to be the bottom layer to help give the view geographic context.  Additional geographic context is given through city names and points."
   ]
  },
  {
   "cell_type": "code",
   "execution_count": 4,
   "metadata": {},
   "outputs": [
    {
     "data": {
      "text/html": [
       "<div>\n",
       "<style>\n",
       "    .dataframe thead tr:only-child th {\n",
       "        text-align: right;\n",
       "    }\n",
       "\n",
       "    .dataframe thead th {\n",
       "        text-align: left;\n",
       "    }\n",
       "\n",
       "    .dataframe tbody tr th {\n",
       "        vertical-align: top;\n",
       "    }\n",
       "</style>\n",
       "<table border=\"1\" class=\"dataframe\">\n",
       "  <thead>\n",
       "    <tr style=\"text-align: right;\">\n",
       "      <th></th>\n",
       "      <th>AFFGEOID</th>\n",
       "      <th>ALAND</th>\n",
       "      <th>AWATER</th>\n",
       "      <th>GEOID</th>\n",
       "      <th>LSAD</th>\n",
       "      <th>NAME</th>\n",
       "      <th>STATEFP</th>\n",
       "      <th>STATENS</th>\n",
       "      <th>STUSPS</th>\n",
       "      <th>geometry</th>\n",
       "    </tr>\n",
       "  </thead>\n",
       "  <tbody>\n",
       "    <tr>\n",
       "      <th>0</th>\n",
       "      <td>0400000US48</td>\n",
       "      <td>676634395761</td>\n",
       "      <td>19027462392</td>\n",
       "      <td>48</td>\n",
       "      <td>00</td>\n",
       "      <td>Texas</td>\n",
       "      <td>48</td>\n",
       "      <td>01779801</td>\n",
       "      <td>TX</td>\n",
       "      <td>POLYGON ((-106.623445 31.914034, -106.630114 3...</td>\n",
       "    </tr>\n",
       "    <tr>\n",
       "      <th>1</th>\n",
       "      <td>0400000US06</td>\n",
       "      <td>403488955894</td>\n",
       "      <td>20477992907</td>\n",
       "      <td>06</td>\n",
       "      <td>00</td>\n",
       "      <td>California</td>\n",
       "      <td>06</td>\n",
       "      <td>01779778</td>\n",
       "      <td>CA</td>\n",
       "      <td>(POLYGON ((-118.593969 33.467198, -118.484785 ...</td>\n",
       "    </tr>\n",
       "    <tr>\n",
       "      <th>2</th>\n",
       "      <td>0400000US21</td>\n",
       "      <td>102266253024</td>\n",
       "      <td>2389483091</td>\n",
       "      <td>21</td>\n",
       "      <td>00</td>\n",
       "      <td>Kentucky</td>\n",
       "      <td>21</td>\n",
       "      <td>01779786</td>\n",
       "      <td>KY</td>\n",
       "      <td>POLYGON ((-89.544434 36.57451, -89.47934599999...</td>\n",
       "    </tr>\n",
       "  </tbody>\n",
       "</table>\n",
       "</div>"
      ],
      "text/plain": [
       "      AFFGEOID         ALAND       AWATER GEOID LSAD        NAME STATEFP  \\\n",
       "0  0400000US48  676634395761  19027462392    48   00       Texas      48   \n",
       "1  0400000US06  403488955894  20477992907    06   00  California      06   \n",
       "2  0400000US21  102266253024   2389483091    21   00    Kentucky      21   \n",
       "\n",
       "    STATENS STUSPS                                           geometry  \n",
       "0  01779801     TX  POLYGON ((-106.623445 31.914034, -106.630114 3...  \n",
       "1  01779778     CA  (POLYGON ((-118.593969 33.467198, -118.484785 ...  \n",
       "2  01779786     KY  POLYGON ((-89.544434 36.57451, -89.47934599999...  "
      ]
     },
     "execution_count": 4,
     "metadata": {},
     "output_type": "execute_result"
    }
   ],
   "source": [
    "cb_2015_us_state = '../../data/shapefiles/cb_2015_us_state_20m/cb_2015_us_state_20m.shp'\n",
    "us_state_df = gpd.read_file(cb_2015_us_state)\n",
    "us_state_df.head(3)"
   ]
  },
  {
   "cell_type": "code",
   "execution_count": 5,
   "metadata": {},
   "outputs": [
    {
     "data": {
      "text/plain": [
       "{'init': 'epsg:4269'}"
      ]
     },
     "execution_count": 5,
     "metadata": {},
     "output_type": "execute_result"
    }
   ],
   "source": [
    "us_state_df.crs"
   ]
  },
  {
   "cell_type": "markdown",
   "metadata": {},
   "source": [
    "### Exclude polygons that are outside of the continental US"
   ]
  },
  {
   "cell_type": "code",
   "execution_count": 6,
   "metadata": {
    "collapsed": true
   },
   "outputs": [],
   "source": [
    "fips_states_outside = set(['02','15','72','66',\n",
    "                       '78','60','69','64',\n",
    "                       '68','70','74',\n",
    "                       '81', '84', '86', '87',\n",
    "                       '89', '71', '76', '95',\n",
    "                       '79'])"
   ]
  },
  {
   "cell_type": "code",
   "execution_count": 7,
   "metadata": {
    "collapsed": true
   },
   "outputs": [],
   "source": [
    "us_cstate_df = us_state_df[np.logical_not(us_state_df['GEOID'].isin(fips_states_outside))]"
   ]
  },
  {
   "cell_type": "markdown",
   "metadata": {},
   "source": [
    "### US County shapefile\n",
    "We want the county FIPS unique identifier as well as the centroid in order to plot points that represent ecommerce employees.  We do not need to plot polygons for the actual counties."
   ]
  },
  {
   "cell_type": "code",
   "execution_count": 8,
   "metadata": {},
   "outputs": [
    {
     "data": {
      "text/html": [
       "<div>\n",
       "<style>\n",
       "    .dataframe thead tr:only-child th {\n",
       "        text-align: right;\n",
       "    }\n",
       "\n",
       "    .dataframe thead th {\n",
       "        text-align: left;\n",
       "    }\n",
       "\n",
       "    .dataframe tbody tr th {\n",
       "        vertical-align: top;\n",
       "    }\n",
       "</style>\n",
       "<table border=\"1\" class=\"dataframe\">\n",
       "  <thead>\n",
       "    <tr style=\"text-align: right;\">\n",
       "      <th></th>\n",
       "      <th>AFFGEOID</th>\n",
       "      <th>ALAND</th>\n",
       "      <th>AWATER</th>\n",
       "      <th>COUNTYFP</th>\n",
       "      <th>COUNTYNS</th>\n",
       "      <th>GEOID</th>\n",
       "      <th>LSAD</th>\n",
       "      <th>NAME</th>\n",
       "      <th>STATEFP</th>\n",
       "      <th>geometry</th>\n",
       "    </tr>\n",
       "  </thead>\n",
       "  <tbody>\n",
       "    <tr>\n",
       "      <th>0</th>\n",
       "      <td>0500000US20175</td>\n",
       "      <td>1655865960</td>\n",
       "      <td>2777350</td>\n",
       "      <td>175</td>\n",
       "      <td>00485050</td>\n",
       "      <td>20175</td>\n",
       "      <td>06</td>\n",
       "      <td>Seward</td>\n",
       "      <td>20</td>\n",
       "      <td>POLYGON ((-101.067904 37.38777899999999, -100....</td>\n",
       "    </tr>\n",
       "    <tr>\n",
       "      <th>1</th>\n",
       "      <td>0500000US28141</td>\n",
       "      <td>1098939230</td>\n",
       "      <td>52359814</td>\n",
       "      <td>141</td>\n",
       "      <td>00695791</td>\n",
       "      <td>28141</td>\n",
       "      <td>06</td>\n",
       "      <td>Tishomingo</td>\n",
       "      <td>28</td>\n",
       "      <td>POLYGON ((-88.36353026853919 34.9957467517971,...</td>\n",
       "    </tr>\n",
       "    <tr>\n",
       "      <th>2</th>\n",
       "      <td>0500000US36101</td>\n",
       "      <td>3601566799</td>\n",
       "      <td>34993606</td>\n",
       "      <td>101</td>\n",
       "      <td>00974148</td>\n",
       "      <td>36101</td>\n",
       "      <td>06</td>\n",
       "      <td>Steuben</td>\n",
       "      <td>36</td>\n",
       "      <td>POLYGON ((-77.72296399999999 42.471216, -77.72...</td>\n",
       "    </tr>\n",
       "  </tbody>\n",
       "</table>\n",
       "</div>"
      ],
      "text/plain": [
       "         AFFGEOID       ALAND    AWATER COUNTYFP  COUNTYNS  GEOID LSAD  \\\n",
       "0  0500000US20175  1655865960   2777350      175  00485050  20175   06   \n",
       "1  0500000US28141  1098939230  52359814      141  00695791  28141   06   \n",
       "2  0500000US36101  3601566799  34993606      101  00974148  36101   06   \n",
       "\n",
       "         NAME STATEFP                                           geometry  \n",
       "0      Seward      20  POLYGON ((-101.067904 37.38777899999999, -100....  \n",
       "1  Tishomingo      28  POLYGON ((-88.36353026853919 34.9957467517971,...  \n",
       "2     Steuben      36  POLYGON ((-77.72296399999999 42.471216, -77.72...  "
      ]
     },
     "execution_count": 8,
     "metadata": {},
     "output_type": "execute_result"
    }
   ],
   "source": [
    "cb_2015_us_county = '../../data/shapefiles/cb_2015_us_county_20m/cb_2015_us_county_20m.shp'\n",
    "us_county_df = gpd.read_file(cb_2015_us_county)\n",
    "us_county_df.head(3)"
   ]
  },
  {
   "cell_type": "code",
   "execution_count": 9,
   "metadata": {},
   "outputs": [
    {
     "name": "stdout",
     "output_type": "stream",
     "text": [
      "county_centers_df rows, cols (3220, 5)\n"
     ]
    },
    {
     "data": {
      "text/html": [
       "<div>\n",
       "<style>\n",
       "    .dataframe thead tr:only-child th {\n",
       "        text-align: right;\n",
       "    }\n",
       "\n",
       "    .dataframe thead th {\n",
       "        text-align: left;\n",
       "    }\n",
       "\n",
       "    .dataframe tbody tr th {\n",
       "        vertical-align: top;\n",
       "    }\n",
       "</style>\n",
       "<table border=\"1\" class=\"dataframe\">\n",
       "  <thead>\n",
       "    <tr style=\"text-align: right;\">\n",
       "      <th></th>\n",
       "      <th>GEOID</th>\n",
       "      <th>NAME</th>\n",
       "      <th>geometry</th>\n",
       "      <th>lat</th>\n",
       "      <th>lon</th>\n",
       "    </tr>\n",
       "  </thead>\n",
       "  <tbody>\n",
       "    <tr>\n",
       "      <th>0</th>\n",
       "      <td>20175</td>\n",
       "      <td>Seward</td>\n",
       "      <td>POINT (-6450689.870011182 -5606907.714936352)</td>\n",
       "      <td>-5.606908e+06</td>\n",
       "      <td>-6.450690e+06</td>\n",
       "    </tr>\n",
       "    <tr>\n",
       "      <th>1</th>\n",
       "      <td>28141</td>\n",
       "      <td>Tishomingo</td>\n",
       "      <td>POINT (-5307449.339152199 -5835440.824897715)</td>\n",
       "      <td>-5.835441e+06</td>\n",
       "      <td>-5.307449e+06</td>\n",
       "    </tr>\n",
       "    <tr>\n",
       "      <th>2</th>\n",
       "      <td>36101</td>\n",
       "      <td>Steuben</td>\n",
       "      <td>POINT (-4535164.692944236 -4840218.932238986)</td>\n",
       "      <td>-4.840219e+06</td>\n",
       "      <td>-4.535165e+06</td>\n",
       "    </tr>\n",
       "  </tbody>\n",
       "</table>\n",
       "</div>"
      ],
      "text/plain": [
       "   GEOID        NAME                                       geometry  \\\n",
       "0  20175      Seward  POINT (-6450689.870011182 -5606907.714936352)   \n",
       "1  28141  Tishomingo  POINT (-5307449.339152199 -5835440.824897715)   \n",
       "2  36101     Steuben  POINT (-4535164.692944236 -4840218.932238986)   \n",
       "\n",
       "            lat           lon  \n",
       "0 -5.606908e+06 -6.450690e+06  \n",
       "1 -5.835441e+06 -5.307449e+06  \n",
       "2 -4.840219e+06 -4.535165e+06  "
      ]
     },
     "execution_count": 9,
     "metadata": {},
     "output_type": "execute_result"
    }
   ],
   "source": [
    "def getXY(point):\n",
    "    return point.x, point.y\n",
    "county_centers = us_county_df['geometry'].centroid\n",
    "target_crs = {'datum':'WGS84', 'no_defs':True, 'proj':'aea', 'lat_1':35, 'lat_2':55, 'lat_0':45, 'lon_0':10}\n",
    "angle_rot = 75\n",
    "center=(-98.5795,39.8283)\n",
    "county_centers_albers = county_centers.to_crs(target_crs).rotate(angle=angle_rot,\n",
    "                                                                 origin=center)\n",
    "x,y = [list(t) for t in zip(*map(getXY, county_centers_albers))]\n",
    "\n",
    "county_centers_df = pd.DataFrame({'GEOID': us_county_df['GEOID'],\n",
    "                                  'NAME': us_county_df['NAME'],\n",
    "                                  'lon': x,\n",
    "                                  'lat': y,\n",
    "                                  'geometry': county_centers_albers})\n",
    "print('county_centers_df rows, cols', county_centers_df.shape)\n",
    "county_centers_df.head(3)"
   ]
  },
  {
   "cell_type": "markdown",
   "metadata": {},
   "source": [
    "### Core Based Statistical Areas shapefile\n",
    "Two subsets/categories of these statistical areas will be plotted in order to highlight the fact that more people are employed with the ecommerce NAICS in urban areas."
   ]
  },
  {
   "cell_type": "code",
   "execution_count": 10,
   "metadata": {},
   "outputs": [
    {
     "data": {
      "text/html": [
       "<div>\n",
       "<style>\n",
       "    .dataframe thead tr:only-child th {\n",
       "        text-align: right;\n",
       "    }\n",
       "\n",
       "    .dataframe thead th {\n",
       "        text-align: left;\n",
       "    }\n",
       "\n",
       "    .dataframe tbody tr th {\n",
       "        vertical-align: top;\n",
       "    }\n",
       "</style>\n",
       "<table border=\"1\" class=\"dataframe\">\n",
       "  <thead>\n",
       "    <tr style=\"text-align: right;\">\n",
       "      <th></th>\n",
       "      <th>AFFGEOID</th>\n",
       "      <th>ALAND</th>\n",
       "      <th>AWATER</th>\n",
       "      <th>CBSAFP</th>\n",
       "      <th>CSAFP</th>\n",
       "      <th>GEOID</th>\n",
       "      <th>LSAD</th>\n",
       "      <th>NAME</th>\n",
       "      <th>geometry</th>\n",
       "    </tr>\n",
       "  </thead>\n",
       "  <tbody>\n",
       "    <tr>\n",
       "      <th>0</th>\n",
       "      <td>310M200US12660</td>\n",
       "      <td>2152007753</td>\n",
       "      <td>45296336</td>\n",
       "      <td>12660</td>\n",
       "      <td>357</td>\n",
       "      <td>12660</td>\n",
       "      <td>M2</td>\n",
       "      <td>Baraboo, WI</td>\n",
       "      <td>POLYGON ((-90.312404 43.640988, -89.785809 43....</td>\n",
       "    </tr>\n",
       "    <tr>\n",
       "      <th>1</th>\n",
       "      <td>310M200US10420</td>\n",
       "      <td>2331619578</td>\n",
       "      <td>62018442</td>\n",
       "      <td>10420</td>\n",
       "      <td>184</td>\n",
       "      <td>10420</td>\n",
       "      <td>M1</td>\n",
       "      <td>Akron, OH</td>\n",
       "      <td>POLYGON ((-81.68698999999999 41.135956, -81.68...</td>\n",
       "    </tr>\n",
       "    <tr>\n",
       "      <th>2</th>\n",
       "      <td>310M200US26540</td>\n",
       "      <td>991056505</td>\n",
       "      <td>13133894</td>\n",
       "      <td>26540</td>\n",
       "      <td>258</td>\n",
       "      <td>26540</td>\n",
       "      <td>M2</td>\n",
       "      <td>Huntington, IN</td>\n",
       "      <td>POLYGON ((-85.64384099999999 41.002305, -85.33...</td>\n",
       "    </tr>\n",
       "  </tbody>\n",
       "</table>\n",
       "</div>"
      ],
      "text/plain": [
       "         AFFGEOID       ALAND    AWATER CBSAFP CSAFP  GEOID LSAD  \\\n",
       "0  310M200US12660  2152007753  45296336  12660   357  12660   M2   \n",
       "1  310M200US10420  2331619578  62018442  10420   184  10420   M1   \n",
       "2  310M200US26540   991056505  13133894  26540   258  26540   M2   \n",
       "\n",
       "             NAME                                           geometry  \n",
       "0     Baraboo, WI  POLYGON ((-90.312404 43.640988, -89.785809 43....  \n",
       "1       Akron, OH  POLYGON ((-81.68698999999999 41.135956, -81.68...  \n",
       "2  Huntington, IN  POLYGON ((-85.64384099999999 41.002305, -85.33...  "
      ]
     },
     "execution_count": 10,
     "metadata": {},
     "output_type": "execute_result"
    }
   ],
   "source": [
    "cb_2015_us_cbsa = '../../data/shapefiles/cb_2015_us_cbsa_20m/cb_2015_us_cbsa_20m.shp'\n",
    "us_cbsa_df = gpd.read_file(cb_2015_us_cbsa)\n",
    "us_cbsa_df.head(3)"
   ]
  },
  {
   "cell_type": "markdown",
   "metadata": {},
   "source": [
    "### County Business Patterns 2015\n",
    "The County Business Patterns data provides the number of people employed by job type as well as payroll data.  There is noise added to the data to prevent people from being able to identify data for a particular company.  We want to determine the number of people employed in ecommerce ( US Labor department NAICS 454111 )"
   ]
  },
  {
   "cell_type": "code",
   "execution_count": 11,
   "metadata": {},
   "outputs": [
    {
     "name": "stdout",
     "output_type": "stream",
     "text": [
      "rows, columns  (2126601, 26)\n"
     ]
    },
    {
     "data": {
      "text/html": [
       "<div>\n",
       "<style>\n",
       "    .dataframe thead tr:only-child th {\n",
       "        text-align: right;\n",
       "    }\n",
       "\n",
       "    .dataframe thead th {\n",
       "        text-align: left;\n",
       "    }\n",
       "\n",
       "    .dataframe tbody tr th {\n",
       "        vertical-align: top;\n",
       "    }\n",
       "</style>\n",
       "<table border=\"1\" class=\"dataframe\">\n",
       "  <thead>\n",
       "    <tr style=\"text-align: right;\">\n",
       "      <th></th>\n",
       "      <th>FIPSTATE</th>\n",
       "      <th>FIPSCTY</th>\n",
       "      <th>NAICS</th>\n",
       "      <th>EMPFLAG</th>\n",
       "      <th>EMP_NF</th>\n",
       "      <th>EMP</th>\n",
       "      <th>QP1_NF</th>\n",
       "      <th>QP1</th>\n",
       "      <th>AP_NF</th>\n",
       "      <th>AP</th>\n",
       "      <th>...</th>\n",
       "      <th>N100_249</th>\n",
       "      <th>N250_499</th>\n",
       "      <th>N500_999</th>\n",
       "      <th>N1000</th>\n",
       "      <th>N1000_1</th>\n",
       "      <th>N1000_2</th>\n",
       "      <th>N1000_3</th>\n",
       "      <th>N1000_4</th>\n",
       "      <th>CENSTATE</th>\n",
       "      <th>CENCTY</th>\n",
       "    </tr>\n",
       "  </thead>\n",
       "  <tbody>\n",
       "    <tr>\n",
       "      <th>0</th>\n",
       "      <td>01</td>\n",
       "      <td>001</td>\n",
       "      <td>------</td>\n",
       "      <td>NaN</td>\n",
       "      <td>G</td>\n",
       "      <td>10454</td>\n",
       "      <td>G</td>\n",
       "      <td>76437</td>\n",
       "      <td>G</td>\n",
       "      <td>321433</td>\n",
       "      <td>...</td>\n",
       "      <td>6</td>\n",
       "      <td>2</td>\n",
       "      <td>1</td>\n",
       "      <td>0</td>\n",
       "      <td>0</td>\n",
       "      <td>0</td>\n",
       "      <td>0</td>\n",
       "      <td>0</td>\n",
       "      <td>63</td>\n",
       "      <td>1</td>\n",
       "    </tr>\n",
       "    <tr>\n",
       "      <th>1</th>\n",
       "      <td>01</td>\n",
       "      <td>001</td>\n",
       "      <td>11----</td>\n",
       "      <td>NaN</td>\n",
       "      <td>H</td>\n",
       "      <td>70</td>\n",
       "      <td>H</td>\n",
       "      <td>790</td>\n",
       "      <td>H</td>\n",
       "      <td>3566</td>\n",
       "      <td>...</td>\n",
       "      <td>0</td>\n",
       "      <td>0</td>\n",
       "      <td>0</td>\n",
       "      <td>0</td>\n",
       "      <td>0</td>\n",
       "      <td>0</td>\n",
       "      <td>0</td>\n",
       "      <td>0</td>\n",
       "      <td>63</td>\n",
       "      <td>1</td>\n",
       "    </tr>\n",
       "    <tr>\n",
       "      <th>2</th>\n",
       "      <td>01</td>\n",
       "      <td>001</td>\n",
       "      <td>113///</td>\n",
       "      <td>NaN</td>\n",
       "      <td>H</td>\n",
       "      <td>70</td>\n",
       "      <td>H</td>\n",
       "      <td>790</td>\n",
       "      <td>H</td>\n",
       "      <td>3551</td>\n",
       "      <td>...</td>\n",
       "      <td>0</td>\n",
       "      <td>0</td>\n",
       "      <td>0</td>\n",
       "      <td>0</td>\n",
       "      <td>0</td>\n",
       "      <td>0</td>\n",
       "      <td>0</td>\n",
       "      <td>0</td>\n",
       "      <td>63</td>\n",
       "      <td>1</td>\n",
       "    </tr>\n",
       "    <tr>\n",
       "      <th>3</th>\n",
       "      <td>01</td>\n",
       "      <td>001</td>\n",
       "      <td>1133//</td>\n",
       "      <td>NaN</td>\n",
       "      <td>H</td>\n",
       "      <td>70</td>\n",
       "      <td>H</td>\n",
       "      <td>790</td>\n",
       "      <td>H</td>\n",
       "      <td>3551</td>\n",
       "      <td>...</td>\n",
       "      <td>0</td>\n",
       "      <td>0</td>\n",
       "      <td>0</td>\n",
       "      <td>0</td>\n",
       "      <td>0</td>\n",
       "      <td>0</td>\n",
       "      <td>0</td>\n",
       "      <td>0</td>\n",
       "      <td>63</td>\n",
       "      <td>1</td>\n",
       "    </tr>\n",
       "    <tr>\n",
       "      <th>4</th>\n",
       "      <td>01</td>\n",
       "      <td>001</td>\n",
       "      <td>11331/</td>\n",
       "      <td>NaN</td>\n",
       "      <td>H</td>\n",
       "      <td>70</td>\n",
       "      <td>H</td>\n",
       "      <td>790</td>\n",
       "      <td>H</td>\n",
       "      <td>3551</td>\n",
       "      <td>...</td>\n",
       "      <td>0</td>\n",
       "      <td>0</td>\n",
       "      <td>0</td>\n",
       "      <td>0</td>\n",
       "      <td>0</td>\n",
       "      <td>0</td>\n",
       "      <td>0</td>\n",
       "      <td>0</td>\n",
       "      <td>63</td>\n",
       "      <td>1</td>\n",
       "    </tr>\n",
       "  </tbody>\n",
       "</table>\n",
       "<p>5 rows × 26 columns</p>\n",
       "</div>"
      ],
      "text/plain": [
       "  FIPSTATE FIPSCTY   NAICS EMPFLAG EMP_NF    EMP QP1_NF    QP1 AP_NF      AP  \\\n",
       "0       01     001  ------     NaN      G  10454      G  76437     G  321433   \n",
       "1       01     001  11----     NaN      H     70      H    790     H    3566   \n",
       "2       01     001  113///     NaN      H     70      H    790     H    3551   \n",
       "3       01     001  1133//     NaN      H     70      H    790     H    3551   \n",
       "4       01     001  11331/     NaN      H     70      H    790     H    3551   \n",
       "\n",
       "    ...    N100_249  N250_499  N500_999  N1000  N1000_1  N1000_2  N1000_3  \\\n",
       "0   ...           6         2         1      0        0        0        0   \n",
       "1   ...           0         0         0      0        0        0        0   \n",
       "2   ...           0         0         0      0        0        0        0   \n",
       "3   ...           0         0         0      0        0        0        0   \n",
       "4   ...           0         0         0      0        0        0        0   \n",
       "\n",
       "   N1000_4  CENSTATE  CENCTY  \n",
       "0        0        63       1  \n",
       "1        0        63       1  \n",
       "2        0        63       1  \n",
       "3        0        63       1  \n",
       "4        0        63       1  \n",
       "\n",
       "[5 rows x 26 columns]"
      ]
     },
     "execution_count": 11,
     "metadata": {},
     "output_type": "execute_result"
    }
   ],
   "source": [
    "filename = '../../data/census/CBP/cbp15co.txt'\n",
    "cbp_county_2015_df = pd.read_csv(filename,\n",
    "                                 dtype={'FIPSTATE': str,\n",
    "                                        'FIPSCTY': str})\n",
    "print('rows, columns ', cbp_county_2015_df.shape)\n",
    "cbp_county_2015_df.head()"
   ]
  },
  {
   "cell_type": "markdown",
   "metadata": {},
   "source": [
    "#### Add GEOID column to County Business Patterns employment dataframe \n",
    "Use this GEOID to join employment data with centroids of county polygons"
   ]
  },
  {
   "cell_type": "code",
   "execution_count": 12,
   "metadata": {
    "collapsed": true
   },
   "outputs": [],
   "source": [
    "geoids = [state + county for state, county in zip(cbp_county_2015_df['FIPSTATE'], cbp_county_2015_df['FIPSCTY'])]\n",
    "cbp_county_2015_df['GEOID'] = geoids"
   ]
  },
  {
   "cell_type": "code",
   "execution_count": 13,
   "metadata": {},
   "outputs": [
    {
     "data": {
      "text/plain": [
       "(1824, 27)"
      ]
     },
     "execution_count": 13,
     "metadata": {},
     "output_type": "execute_result"
    }
   ],
   "source": [
    "# Select rows that contain the US Labor department code for ecommerce\n",
    "ecom_df = cbp_county_2015_df[cbp_county_2015_df['NAICS'] == '454111']\n",
    "ecom_df.shape"
   ]
  },
  {
   "cell_type": "code",
   "execution_count": 14,
   "metadata": {},
   "outputs": [
    {
     "data": {
      "text/plain": [
       "(441, 27)"
      ]
     },
     "execution_count": 14,
     "metadata": {},
     "output_type": "execute_result"
    }
   ],
   "source": [
    "# Select rows that have greater than 39 employees\n",
    "# TODO need to change this to select for aggregate sum by county\n",
    "ecom_co_gt39_df = ecom_df[ecom_df.EMP > 39]\n",
    "ecom_co_gt39_df.shape"
   ]
  },
  {
   "cell_type": "code",
   "execution_count": 16,
   "metadata": {},
   "outputs": [
    {
     "name": "stdout",
     "output_type": "stream",
     "text": [
      "ecom_co_gt39_df rows,cols  (439, 27)\n"
     ]
    },
    {
     "data": {
      "text/html": [
       "<div>\n",
       "<style>\n",
       "    .dataframe thead tr:only-child th {\n",
       "        text-align: right;\n",
       "    }\n",
       "\n",
       "    .dataframe thead th {\n",
       "        text-align: left;\n",
       "    }\n",
       "\n",
       "    .dataframe tbody tr th {\n",
       "        vertical-align: top;\n",
       "    }\n",
       "</style>\n",
       "<table border=\"1\" class=\"dataframe\">\n",
       "  <thead>\n",
       "    <tr style=\"text-align: right;\">\n",
       "      <th></th>\n",
       "      <th>FIPSTATE</th>\n",
       "      <th>FIPSCTY</th>\n",
       "      <th>NAICS</th>\n",
       "      <th>EMPFLAG</th>\n",
       "      <th>EMP_NF</th>\n",
       "      <th>EMP</th>\n",
       "      <th>QP1_NF</th>\n",
       "      <th>QP1</th>\n",
       "      <th>AP_NF</th>\n",
       "      <th>AP</th>\n",
       "      <th>...</th>\n",
       "      <th>N250_499</th>\n",
       "      <th>N500_999</th>\n",
       "      <th>N1000</th>\n",
       "      <th>N1000_1</th>\n",
       "      <th>N1000_2</th>\n",
       "      <th>N1000_3</th>\n",
       "      <th>N1000_4</th>\n",
       "      <th>CENSTATE</th>\n",
       "      <th>CENCTY</th>\n",
       "      <th>GEOID</th>\n",
       "    </tr>\n",
       "  </thead>\n",
       "  <tbody>\n",
       "    <tr>\n",
       "      <th>1346</th>\n",
       "      <td>01</td>\n",
       "      <td>003</td>\n",
       "      <td>454111</td>\n",
       "      <td>NaN</td>\n",
       "      <td>G</td>\n",
       "      <td>139</td>\n",
       "      <td>G</td>\n",
       "      <td>759</td>\n",
       "      <td>H</td>\n",
       "      <td>2904</td>\n",
       "      <td>...</td>\n",
       "      <td>0</td>\n",
       "      <td>0</td>\n",
       "      <td>0</td>\n",
       "      <td>0</td>\n",
       "      <td>0</td>\n",
       "      <td>0</td>\n",
       "      <td>0</td>\n",
       "      <td>63</td>\n",
       "      <td>3</td>\n",
       "      <td>01003</td>\n",
       "    </tr>\n",
       "    <tr>\n",
       "      <th>9780</th>\n",
       "      <td>01</td>\n",
       "      <td>033</td>\n",
       "      <td>454111</td>\n",
       "      <td>NaN</td>\n",
       "      <td>H</td>\n",
       "      <td>73</td>\n",
       "      <td>H</td>\n",
       "      <td>419</td>\n",
       "      <td>H</td>\n",
       "      <td>1752</td>\n",
       "      <td>...</td>\n",
       "      <td>0</td>\n",
       "      <td>0</td>\n",
       "      <td>0</td>\n",
       "      <td>0</td>\n",
       "      <td>0</td>\n",
       "      <td>0</td>\n",
       "      <td>0</td>\n",
       "      <td>63</td>\n",
       "      <td>33</td>\n",
       "      <td>01033</td>\n",
       "    </tr>\n",
       "    <tr>\n",
       "      <th>22397</th>\n",
       "      <td>01</td>\n",
       "      <td>073</td>\n",
       "      <td>454111</td>\n",
       "      <td>NaN</td>\n",
       "      <td>H</td>\n",
       "      <td>99</td>\n",
       "      <td>H</td>\n",
       "      <td>1103</td>\n",
       "      <td>G</td>\n",
       "      <td>4667</td>\n",
       "      <td>...</td>\n",
       "      <td>0</td>\n",
       "      <td>0</td>\n",
       "      <td>0</td>\n",
       "      <td>0</td>\n",
       "      <td>0</td>\n",
       "      <td>0</td>\n",
       "      <td>0</td>\n",
       "      <td>63</td>\n",
       "      <td>73</td>\n",
       "      <td>01073</td>\n",
       "    </tr>\n",
       "  </tbody>\n",
       "</table>\n",
       "<p>3 rows × 27 columns</p>\n",
       "</div>"
      ],
      "text/plain": [
       "      FIPSTATE FIPSCTY   NAICS EMPFLAG EMP_NF  EMP QP1_NF   QP1 AP_NF    AP  \\\n",
       "1346        01     003  454111     NaN      G  139      G   759     H  2904   \n",
       "9780        01     033  454111     NaN      H   73      H   419     H  1752   \n",
       "22397       01     073  454111     NaN      H   99      H  1103     G  4667   \n",
       "\n",
       "       ...    N250_499  N500_999  N1000  N1000_1  N1000_2  N1000_3  N1000_4  \\\n",
       "1346   ...           0         0      0        0        0        0        0   \n",
       "9780   ...           0         0      0        0        0        0        0   \n",
       "22397  ...           0         0      0        0        0        0        0   \n",
       "\n",
       "       CENSTATE  CENCTY  GEOID  \n",
       "1346         63       3  01003  \n",
       "9780         63      33  01033  \n",
       "22397        63      73  01073  \n",
       "\n",
       "[3 rows x 27 columns]"
      ]
     },
     "execution_count": 16,
     "metadata": {},
     "output_type": "execute_result"
    }
   ],
   "source": [
    "# Remove rows that are outside of the continental US\n",
    "ecom_co_gt39_df = ecom_co_gt39_df[np.logical_not(ecom_co_gt39_df['FIPSTATE'].isin(fips_states_outside))]\n",
    "print('ecom_co_gt39_df rows,cols ', ecom_co_gt39_df.shape)\n",
    "ecom_co_gt39_df.head(3)"
   ]
  },
  {
   "cell_type": "code",
   "execution_count": 17,
   "metadata": {},
   "outputs": [
    {
     "data": {
      "text/plain": [
       "<matplotlib.axes._subplots.AxesSubplot at 0x7f91c347def0>"
      ]
     },
     "execution_count": 17,
     "metadata": {},
     "output_type": "execute_result"
    },
    {
     "data": {
      "image/png": "[encoded data removed]",
      "text/plain": [
       "<matplotlib.figure.Figure at 0x7f92045e9780>"
      ]
     },
     "metadata": {},
     "output_type": "display_data"
    }
   ],
   "source": [
    "\n",
    "ecom_co_gt39_df['EMP'].plot.hist(bins=100, figsize=(12,4))"
   ]
  },
  {
   "cell_type": "markdown",
   "metadata": {},
   "source": [
    "### Join ecommerce employment numbers by county with county polygon centroids"
   ]
  },
  {
   "cell_type": "code",
   "execution_count": 18,
   "metadata": {},
   "outputs": [
    {
     "name": "stdout",
     "output_type": "stream",
     "text": [
      "county_ecom40_df rows,cols (439, 5)\n"
     ]
    },
    {
     "data": {
      "text/html": [
       "<div>\n",
       "<style>\n",
       "    .dataframe thead tr:only-child th {\n",
       "        text-align: right;\n",
       "    }\n",
       "\n",
       "    .dataframe thead th {\n",
       "        text-align: left;\n",
       "    }\n",
       "\n",
       "    .dataframe tbody tr th {\n",
       "        vertical-align: top;\n",
       "    }\n",
       "</style>\n",
       "<table border=\"1\" class=\"dataframe\">\n",
       "  <thead>\n",
       "    <tr style=\"text-align: right;\">\n",
       "      <th></th>\n",
       "      <th>EMP</th>\n",
       "      <th>NAME</th>\n",
       "      <th>geometry</th>\n",
       "      <th>lat</th>\n",
       "      <th>lon</th>\n",
       "    </tr>\n",
       "    <tr>\n",
       "      <th>GEOID</th>\n",
       "      <th></th>\n",
       "      <th></th>\n",
       "      <th></th>\n",
       "      <th></th>\n",
       "      <th></th>\n",
       "    </tr>\n",
       "  </thead>\n",
       "  <tbody>\n",
       "    <tr>\n",
       "      <th>01003</th>\n",
       "      <td>139</td>\n",
       "      <td>Baldwin</td>\n",
       "      <td>POINT (-5207032.42602911 -6268528.018109216)</td>\n",
       "      <td>-6.268528e+06</td>\n",
       "      <td>-5.207032e+06</td>\n",
       "    </tr>\n",
       "    <tr>\n",
       "      <th>01033</th>\n",
       "      <td>73</td>\n",
       "      <td>Colbert</td>\n",
       "      <td>POINT (-5267080.346653922 -5835336.481005088)</td>\n",
       "      <td>-5.835336e+06</td>\n",
       "      <td>-5.267080e+06</td>\n",
       "    </tr>\n",
       "    <tr>\n",
       "      <th>01073</th>\n",
       "      <td>99</td>\n",
       "      <td>Jefferson</td>\n",
       "      <td>POINT (-5168182.339893726 -5950343.861688845)</td>\n",
       "      <td>-5.950344e+06</td>\n",
       "      <td>-5.168182e+06</td>\n",
       "    </tr>\n",
       "  </tbody>\n",
       "</table>\n",
       "</div>"
      ],
      "text/plain": [
       "       EMP       NAME                                       geometry  \\\n",
       "GEOID                                                                  \n",
       "01003  139    Baldwin   POINT (-5207032.42602911 -6268528.018109216)   \n",
       "01033   73    Colbert  POINT (-5267080.346653922 -5835336.481005088)   \n",
       "01073   99  Jefferson  POINT (-5168182.339893726 -5950343.861688845)   \n",
       "\n",
       "                lat           lon  \n",
       "GEOID                              \n",
       "01003 -6.268528e+06 -5.207032e+06  \n",
       "01033 -5.835336e+06 -5.267080e+06  \n",
       "01073 -5.950344e+06 -5.168182e+06  "
      ]
     },
     "execution_count": 18,
     "metadata": {},
     "output_type": "execute_result"
    }
   ],
   "source": [
    "left_cols = ['GEOID', 'EMP']\n",
    "county_ecom40_df = ecom_co_gt39_df[left_cols].set_index('GEOID').join(\n",
    "                                          county_centers_df.set_index('GEOID'),\n",
    "                                          lsuffix='_e' )\n",
    "print('county_ecom40_df rows,cols', county_ecom40_df.shape)\n",
    "county_ecom40_df.head(3)"
   ]
  },
  {
   "cell_type": "markdown",
   "metadata": {},
   "source": [
    "### Population estimates by CBSA\n",
    "We want to use these population estimates to select polygons for metropolitan areas with more than 1M people as well as metropolitan areas with populations between 250k and 1M"
   ]
  },
  {
   "cell_type": "code",
   "execution_count": 19,
   "metadata": {},
   "outputs": [
    {
     "name": "stdout",
     "output_type": "stream",
     "text": [
      "pop_cbsa_2015_df rows,cols  (2792, 4)\n"
     ]
    },
    {
     "data": {
      "text/html": [
       "<div>\n",
       "<style>\n",
       "    .dataframe thead tr:only-child th {\n",
       "        text-align: right;\n",
       "    }\n",
       "\n",
       "    .dataframe thead th {\n",
       "        text-align: left;\n",
       "    }\n",
       "\n",
       "    .dataframe tbody tr th {\n",
       "        vertical-align: top;\n",
       "    }\n",
       "</style>\n",
       "<table border=\"1\" class=\"dataframe\">\n",
       "  <thead>\n",
       "    <tr style=\"text-align: right;\">\n",
       "      <th></th>\n",
       "      <th>CBSA</th>\n",
       "      <th>NAME</th>\n",
       "      <th>POPESTIMATE2015</th>\n",
       "      <th>RESIDUAL2015</th>\n",
       "    </tr>\n",
       "  </thead>\n",
       "  <tbody>\n",
       "    <tr>\n",
       "      <th>0</th>\n",
       "      <td>10180</td>\n",
       "      <td>Abilene, TX</td>\n",
       "      <td>169893</td>\n",
       "      <td>-13</td>\n",
       "    </tr>\n",
       "    <tr>\n",
       "      <th>1</th>\n",
       "      <td>10180</td>\n",
       "      <td>Callahan County, TX</td>\n",
       "      <td>13596</td>\n",
       "      <td>-9</td>\n",
       "    </tr>\n",
       "    <tr>\n",
       "      <th>2</th>\n",
       "      <td>10180</td>\n",
       "      <td>Jones County, TX</td>\n",
       "      <td>19972</td>\n",
       "      <td>-20</td>\n",
       "    </tr>\n",
       "  </tbody>\n",
       "</table>\n",
       "</div>"
      ],
      "text/plain": [
       "    CBSA                 NAME POPESTIMATE2015 RESIDUAL2015\n",
       "0  10180          Abilene, TX          169893          -13\n",
       "1  10180  Callahan County, TX           13596           -9\n",
       "2  10180     Jones County, TX           19972          -20"
      ]
     },
     "execution_count": 19,
     "metadata": {},
     "output_type": "execute_result"
    }
   ],
   "source": [
    "pop_cbsa_2015_df = pd.read_csv('../../data/census/cbsa-est2016-alldata-alt.csv',\n",
    "                               encoding='latin-1',\n",
    "                               usecols=['CBSA','NAME','POPESTIMATE2015','RESIDUAL2015'],\n",
    "                               dtype={'CBSA':str,\n",
    "                                      'NAME':str,\n",
    "                                      'POPESTIMATE2015':object,\n",
    "                                      'RESIDUAL2015':object})\n",
    "print('pop_cbsa_2015_df rows,cols ', pop_cbsa_2015_df.shape)\n",
    "pop_cbsa_2015_df.head(3)"
   ]
  },
  {
   "cell_type": "code",
   "execution_count": 20,
   "metadata": {},
   "outputs": [
    {
     "name": "stdout",
     "output_type": "stream",
     "text": [
      "<class 'pandas.core.frame.DataFrame'>\n",
      "RangeIndex: 2792 entries, 0 to 2791\n",
      "Data columns (total 4 columns):\n",
      "CBSA               2789 non-null object\n",
      "NAME               2790 non-null object\n",
      "POPESTIMATE2015    2789 non-null object\n",
      "RESIDUAL2015       2789 non-null object\n",
      "dtypes: object(4)\n",
      "memory usage: 87.3+ KB\n"
     ]
    }
   ],
   "source": [
    "pop_cbsa_2015_df.info()"
   ]
  },
  {
   "cell_type": "code",
   "execution_count": 21,
   "metadata": {
    "collapsed": true
   },
   "outputs": [],
   "source": [
    "pop_cbsa_2015_df.dropna(axis=0, inplace=True)\n",
    "pop_cbsa_2015_df['CBSA'] = pop_cbsa_2015_df['CBSA'].astype('str')"
   ]
  },
  {
   "cell_type": "code",
   "execution_count": 22,
   "metadata": {
    "collapsed": true
   },
   "outputs": [],
   "source": [
    "# Remove CBSA ( CBSA consist of one or more counties ) for Alaska and Hawaii\n",
    "pop_cbsa_2015_df = pop_cbsa_2015_df[np.logical_not(np.logical_or(pop_cbsa_2015_df['NAME'].str.endswith('AK'),\n",
    "                                     pop_cbsa_2015_df['NAME'].str.endswith('HI')))]"
   ]
  },
  {
   "cell_type": "code",
   "execution_count": 23,
   "metadata": {},
   "outputs": [
    {
     "name": "stdout",
     "output_type": "stream",
     "text": [
      "cbsa_pop_df rows,cols  (2757, 11)\n"
     ]
    },
    {
     "data": {
      "text/html": [
       "<div>\n",
       "<style>\n",
       "    .dataframe thead tr:only-child th {\n",
       "        text-align: right;\n",
       "    }\n",
       "\n",
       "    .dataframe thead th {\n",
       "        text-align: left;\n",
       "    }\n",
       "\n",
       "    .dataframe tbody tr th {\n",
       "        vertical-align: top;\n",
       "    }\n",
       "</style>\n",
       "<table border=\"1\" class=\"dataframe\">\n",
       "  <thead>\n",
       "    <tr style=\"text-align: right;\">\n",
       "      <th></th>\n",
       "      <th>AFFGEOID</th>\n",
       "      <th>ALAND</th>\n",
       "      <th>AWATER</th>\n",
       "      <th>CBSAFP</th>\n",
       "      <th>CSAFP</th>\n",
       "      <th>LSAD</th>\n",
       "      <th>NAME</th>\n",
       "      <th>geometry</th>\n",
       "      <th>NAME_pop</th>\n",
       "      <th>POPESTIMATE2015</th>\n",
       "      <th>RESIDUAL2015</th>\n",
       "    </tr>\n",
       "  </thead>\n",
       "  <tbody>\n",
       "    <tr>\n",
       "      <th>10100</th>\n",
       "      <td>310M200US10100</td>\n",
       "      <td>7352936358</td>\n",
       "      <td>111452523</td>\n",
       "      <td>10100</td>\n",
       "      <td>None</td>\n",
       "      <td>M2</td>\n",
       "      <td>Aberdeen, SD</td>\n",
       "      <td>POLYGON ((-99.70770499999999 45.593391, -98.72...</td>\n",
       "      <td>Aberdeen, SD</td>\n",
       "      <td>42708</td>\n",
       "      <td>-20</td>\n",
       "    </tr>\n",
       "    <tr>\n",
       "      <th>10100</th>\n",
       "      <td>310M200US10100</td>\n",
       "      <td>7352936358</td>\n",
       "      <td>111452523</td>\n",
       "      <td>10100</td>\n",
       "      <td>None</td>\n",
       "      <td>M2</td>\n",
       "      <td>Aberdeen, SD</td>\n",
       "      <td>POLYGON ((-99.70770499999999 45.593391, -98.72...</td>\n",
       "      <td>Brown County, SD</td>\n",
       "      <td>38699</td>\n",
       "      <td>-1</td>\n",
       "    </tr>\n",
       "  </tbody>\n",
       "</table>\n",
       "</div>"
      ],
      "text/plain": [
       "             AFFGEOID       ALAND     AWATER CBSAFP CSAFP LSAD          NAME  \\\n",
       "10100  310M200US10100  7352936358  111452523  10100  None   M2  Aberdeen, SD   \n",
       "10100  310M200US10100  7352936358  111452523  10100  None   M2  Aberdeen, SD   \n",
       "\n",
       "                                                geometry          NAME_pop  \\\n",
       "10100  POLYGON ((-99.70770499999999 45.593391, -98.72...      Aberdeen, SD   \n",
       "10100  POLYGON ((-99.70770499999999 45.593391, -98.72...  Brown County, SD   \n",
       "\n",
       "      POPESTIMATE2015 RESIDUAL2015  \n",
       "10100           42708          -20  \n",
       "10100           38699           -1  "
      ]
     },
     "execution_count": 23,
     "metadata": {},
     "output_type": "execute_result"
    }
   ],
   "source": [
    "cbsa_pop_df = us_cbsa_df.set_index('GEOID').join(pop_cbsa_2015_df.set_index('CBSA'),\n",
    "                                       how='left',\n",
    "                                       rsuffix='_pop')\n",
    "print('cbsa_pop_df rows,cols ', cbsa_pop_df.shape)\n",
    "cbsa_pop_df.head(2)"
   ]
  },
  {
   "cell_type": "code",
   "execution_count": 24,
   "metadata": {},
   "outputs": [
    {
     "data": {
      "text/html": [
       "<div>\n",
       "<style>\n",
       "    .dataframe thead tr:only-child th {\n",
       "        text-align: right;\n",
       "    }\n",
       "\n",
       "    .dataframe thead th {\n",
       "        text-align: left;\n",
       "    }\n",
       "\n",
       "    .dataframe tbody tr th {\n",
       "        vertical-align: top;\n",
       "    }\n",
       "</style>\n",
       "<table border=\"1\" class=\"dataframe\">\n",
       "  <thead>\n",
       "    <tr style=\"text-align: right;\">\n",
       "      <th></th>\n",
       "      <th>data type</th>\n",
       "      <th>number of null values</th>\n",
       "    </tr>\n",
       "  </thead>\n",
       "  <tbody>\n",
       "    <tr>\n",
       "      <th>AFFGEOID</th>\n",
       "      <td>object</td>\n",
       "      <td>0</td>\n",
       "    </tr>\n",
       "    <tr>\n",
       "      <th>ALAND</th>\n",
       "      <td>int64</td>\n",
       "      <td>0</td>\n",
       "    </tr>\n",
       "    <tr>\n",
       "      <th>AWATER</th>\n",
       "      <td>int64</td>\n",
       "      <td>0</td>\n",
       "    </tr>\n",
       "    <tr>\n",
       "      <th>CBSAFP</th>\n",
       "      <td>object</td>\n",
       "      <td>0</td>\n",
       "    </tr>\n",
       "    <tr>\n",
       "      <th>CSAFP</th>\n",
       "      <td>object</td>\n",
       "      <td>1052</td>\n",
       "    </tr>\n",
       "    <tr>\n",
       "      <th>LSAD</th>\n",
       "      <td>object</td>\n",
       "      <td>0</td>\n",
       "    </tr>\n",
       "    <tr>\n",
       "      <th>NAME</th>\n",
       "      <td>object</td>\n",
       "      <td>0</td>\n",
       "    </tr>\n",
       "    <tr>\n",
       "      <th>geometry</th>\n",
       "      <td>object</td>\n",
       "      <td>0</td>\n",
       "    </tr>\n",
       "    <tr>\n",
       "      <th>NAME_pop</th>\n",
       "      <td>object</td>\n",
       "      <td>20</td>\n",
       "    </tr>\n",
       "    <tr>\n",
       "      <th>POPESTIMATE2015</th>\n",
       "      <td>object</td>\n",
       "      <td>20</td>\n",
       "    </tr>\n",
       "    <tr>\n",
       "      <th>RESIDUAL2015</th>\n",
       "      <td>object</td>\n",
       "      <td>20</td>\n",
       "    </tr>\n",
       "  </tbody>\n",
       "</table>\n",
       "</div>"
      ],
      "text/plain": [
       "                data type  number of null values\n",
       "AFFGEOID           object                      0\n",
       "ALAND               int64                      0\n",
       "AWATER              int64                      0\n",
       "CBSAFP             object                      0\n",
       "CSAFP              object                   1052\n",
       "LSAD               object                      0\n",
       "NAME               object                      0\n",
       "geometry           object                      0\n",
       "NAME_pop           object                     20\n",
       "POPESTIMATE2015    object                     20\n",
       "RESIDUAL2015       object                     20"
      ]
     },
     "execution_count": 24,
     "metadata": {},
     "output_type": "execute_result"
    }
   ],
   "source": [
    "# Number of null values and data types per column\n",
    "# You can use DataFrame.info() as well\n",
    "null_df = pd.DataFrame({'number of null values': cbsa_pop_df.isnull().sum(),\n",
    "                        'data type' : cbsa_pop_df.dtypes})\n",
    "null_df"
   ]
  },
  {
   "cell_type": "code",
   "execution_count": 25,
   "metadata": {},
   "outputs": [
    {
     "name": "stdout",
     "output_type": "stream",
     "text": [
      "<class 'geopandas.geodataframe.GeoDataFrame'>\n",
      "Index: 2737 entries, 10100 to 49820\n",
      "Data columns (total 10 columns):\n",
      "AFFGEOID           2737 non-null object\n",
      "ALAND              2737 non-null int64\n",
      "AWATER             2737 non-null int64\n",
      "CBSAFP             2737 non-null object\n",
      "LSAD               2737 non-null object\n",
      "NAME               2737 non-null object\n",
      "geometry           2737 non-null object\n",
      "NAME_pop           2737 non-null object\n",
      "POPESTIMATE2015    2737 non-null object\n",
      "RESIDUAL2015       2737 non-null object\n",
      "dtypes: int64(2), object(8)\n",
      "memory usage: 235.2+ KB\n"
     ]
    }
   ],
   "source": [
    "# Remove CSAFP column so that we can easily drop the\n",
    "# population fields that contain Nan values\n",
    "# These Nan values prevent me from doing a simple select on \n",
    "# field POPESTIMATE2015\n",
    "cbsa_pop_df.drop(labels=['CSAFP',],\n",
    "                 axis=1,\n",
    "                 inplace=True)\n",
    "# Drop the rows that contain Null, Nan\n",
    "cbsa_pop_df.dropna(axis=0,\n",
    "                   inplace=True)\n",
    "cbsa_pop_df.info()"
   ]
  },
  {
   "cell_type": "markdown",
   "metadata": {},
   "source": [
    "### Create two categories large and medium CBSA"
   ]
  },
  {
   "cell_type": "code",
   "execution_count": 26,
   "metadata": {
    "collapsed": true
   },
   "outputs": [],
   "source": [
    "cbsa_pop_df['POPESTIMATE2015'] = cbsa_pop_df['POPESTIMATE2015'].astype('int')\n",
    "cbsa_pop_large_df = cbsa_pop_df[cbsa_pop_df['POPESTIMATE2015'] > 999999]\n",
    "cbsa_pop_medium_df = cbsa_pop_df[np.logical_and(cbsa_pop_df['POPESTIMATE2015'] > 250000,\n",
    "                                 cbsa_pop_df['POPESTIMATE2015'] < 1000000)]"
   ]
  },
  {
   "cell_type": "markdown",
   "metadata": {},
   "source": [
    "### List of cities and their location\n"
   ]
  },
  {
   "cell_type": "code",
   "execution_count": 37,
   "metadata": {},
   "outputs": [
    {
     "name": "stdout",
     "output_type": "stream",
     "text": [
      "cities_df rows,cols  (22, 5)\n"
     ]
    },
    {
     "data": {
      "text/html": [
       "<div>\n",
       "<style>\n",
       "    .dataframe thead tr:only-child th {\n",
       "        text-align: right;\n",
       "    }\n",
       "\n",
       "    .dataframe thead th {\n",
       "        text-align: left;\n",
       "    }\n",
       "\n",
       "    .dataframe tbody tr th {\n",
       "        vertical-align: top;\n",
       "    }\n",
       "</style>\n",
       "<table border=\"1\" class=\"dataframe\">\n",
       "  <thead>\n",
       "    <tr style=\"text-align: right;\">\n",
       "      <th></th>\n",
       "      <th>name</th>\n",
       "      <th>lon</th>\n",
       "      <th>lat</th>\n",
       "      <th>nx</th>\n",
       "      <th>ny</th>\n",
       "    </tr>\n",
       "  </thead>\n",
       "  <tbody>\n",
       "    <tr>\n",
       "      <th>0</th>\n",
       "      <td>Seattle</td>\n",
       "      <td>-122.3321</td>\n",
       "      <td>47.60621</td>\n",
       "      <td>-1.5</td>\n",
       "      <td>0.0</td>\n",
       "    </tr>\n",
       "    <tr>\n",
       "      <th>1</th>\n",
       "      <td>Portland</td>\n",
       "      <td>-122.6765</td>\n",
       "      <td>45.52306</td>\n",
       "      <td>-1.5</td>\n",
       "      <td>0.0</td>\n",
       "    </tr>\n",
       "    <tr>\n",
       "      <th>2</th>\n",
       "      <td>Boise</td>\n",
       "      <td>-116.2146</td>\n",
       "      <td>43.61871</td>\n",
       "      <td>1.2</td>\n",
       "      <td>-0.5</td>\n",
       "    </tr>\n",
       "  </tbody>\n",
       "</table>\n",
       "</div>"
      ],
      "text/plain": [
       "       name       lon       lat   nx   ny\n",
       "0   Seattle -122.3321  47.60621 -1.5  0.0\n",
       "1  Portland -122.6765  45.52306 -1.5  0.0\n",
       "2     Boise -116.2146  43.61871  1.2 -0.5"
      ]
     },
     "execution_count": 37,
     "metadata": {},
     "output_type": "execute_result"
    }
   ],
   "source": [
    "cities_df = pd.read_csv('../../data/cities.csv')\n",
    "print('cities_df rows,cols ', cities_df.shape)\n",
    "cities_df.head(3)"
   ]
  },
  {
   "cell_type": "code",
   "execution_count": 38,
   "metadata": {},
   "outputs": [
    {
     "data": {
      "text/html": [
       "<div>\n",
       "<style>\n",
       "    .dataframe thead tr:only-child th {\n",
       "        text-align: right;\n",
       "    }\n",
       "\n",
       "    .dataframe thead th {\n",
       "        text-align: left;\n",
       "    }\n",
       "\n",
       "    .dataframe tbody tr th {\n",
       "        vertical-align: top;\n",
       "    }\n",
       "</style>\n",
       "<table border=\"1\" class=\"dataframe\">\n",
       "  <thead>\n",
       "    <tr style=\"text-align: right;\">\n",
       "      <th></th>\n",
       "      <th>name</th>\n",
       "      <th>lon</th>\n",
       "      <th>lat</th>\n",
       "      <th>nx</th>\n",
       "      <th>ny</th>\n",
       "      <th>xy</th>\n",
       "    </tr>\n",
       "  </thead>\n",
       "  <tbody>\n",
       "    <tr>\n",
       "      <th>0</th>\n",
       "      <td>Seattle</td>\n",
       "      <td>-122.3321</td>\n",
       "      <td>47.60621</td>\n",
       "      <td>-1.5</td>\n",
       "      <td>0.0</td>\n",
       "      <td>(-122.3321, 47.60621)</td>\n",
       "    </tr>\n",
       "    <tr>\n",
       "      <th>1</th>\n",
       "      <td>Portland</td>\n",
       "      <td>-122.6765</td>\n",
       "      <td>45.52306</td>\n",
       "      <td>-1.5</td>\n",
       "      <td>0.0</td>\n",
       "      <td>(-122.6765, 45.52306)</td>\n",
       "    </tr>\n",
       "    <tr>\n",
       "      <th>2</th>\n",
       "      <td>Boise</td>\n",
       "      <td>-116.2146</td>\n",
       "      <td>43.61871</td>\n",
       "      <td>1.2</td>\n",
       "      <td>-0.5</td>\n",
       "      <td>(-116.2146, 43.61871)</td>\n",
       "    </tr>\n",
       "  </tbody>\n",
       "</table>\n",
       "</div>"
      ],
      "text/plain": [
       "       name       lon       lat   nx   ny                     xy\n",
       "0   Seattle -122.3321  47.60621 -1.5  0.0  (-122.3321, 47.60621)\n",
       "1  Portland -122.6765  45.52306 -1.5  0.0  (-122.6765, 45.52306)\n",
       "2     Boise -116.2146  43.61871  1.2 -0.5  (-116.2146, 43.61871)"
      ]
     },
     "execution_count": 38,
     "metadata": {},
     "output_type": "execute_result"
    }
   ],
   "source": [
    "xy = [(x,y) for x,y in zip(cities_df['lon'], cities_df['lat'])]\n",
    "cities_df['xy'] = xy\n",
    "cities_df.head(3)"
   ]
  },
  {
   "cell_type": "markdown",
   "metadata": {},
   "source": [
    "### Add GeoSeries type geometry column to cities dataframe"
   ]
  },
  {
   "cell_type": "code",
   "execution_count": 39,
   "metadata": {},
   "outputs": [
    {
     "name": "stdout",
     "output_type": "stream",
     "text": [
      "cities_df rows,cols  (22, 7)\n"
     ]
    },
    {
     "data": {
      "text/html": [
       "<div>\n",
       "<style>\n",
       "    .dataframe thead tr:only-child th {\n",
       "        text-align: right;\n",
       "    }\n",
       "\n",
       "    .dataframe thead th {\n",
       "        text-align: left;\n",
       "    }\n",
       "\n",
       "    .dataframe tbody tr th {\n",
       "        vertical-align: top;\n",
       "    }\n",
       "</style>\n",
       "<table border=\"1\" class=\"dataframe\">\n",
       "  <thead>\n",
       "    <tr style=\"text-align: right;\">\n",
       "      <th></th>\n",
       "      <th>name</th>\n",
       "      <th>lon</th>\n",
       "      <th>lat</th>\n",
       "      <th>nx</th>\n",
       "      <th>ny</th>\n",
       "      <th>xy</th>\n",
       "      <th>geometry</th>\n",
       "    </tr>\n",
       "  </thead>\n",
       "  <tbody>\n",
       "    <tr>\n",
       "      <th>0</th>\n",
       "      <td>Seattle</td>\n",
       "      <td>-7.970039e+06</td>\n",
       "      <td>-4.169770e+06</td>\n",
       "      <td>-1.5</td>\n",
       "      <td>0.0</td>\n",
       "      <td>(-122.3321, 47.60621)</td>\n",
       "      <td>POINT (-7970039.371280489 -4169769.849901617)</td>\n",
       "    </tr>\n",
       "    <tr>\n",
       "      <th>1</th>\n",
       "      <td>Portland</td>\n",
       "      <td>-8.064721e+06</td>\n",
       "      <td>-4.386525e+06</td>\n",
       "      <td>-1.5</td>\n",
       "      <td>0.0</td>\n",
       "      <td>(-122.6765, 45.52306)</td>\n",
       "      <td>POINT (-8064721.061723392 -4386524.988449218)</td>\n",
       "    </tr>\n",
       "    <tr>\n",
       "      <th>2</th>\n",
       "      <td>Boise</td>\n",
       "      <td>-7.632891e+06</td>\n",
       "      <td>-4.725847e+06</td>\n",
       "      <td>1.2</td>\n",
       "      <td>-0.5</td>\n",
       "      <td>(-116.2146, 43.61871)</td>\n",
       "      <td>POINT (-7632890.656705001 -4725846.788010852)</td>\n",
       "    </tr>\n",
       "  </tbody>\n",
       "</table>\n",
       "</div>"
      ],
      "text/plain": [
       "       name           lon           lat   nx   ny                     xy  \\\n",
       "0   Seattle -7.970039e+06 -4.169770e+06 -1.5  0.0  (-122.3321, 47.60621)   \n",
       "1  Portland -8.064721e+06 -4.386525e+06 -1.5  0.0  (-122.6765, 45.52306)   \n",
       "2     Boise -7.632891e+06 -4.725847e+06  1.2 -0.5  (-116.2146, 43.61871)   \n",
       "\n",
       "                                        geometry  \n",
       "0  POINT (-7970039.371280489 -4169769.849901617)  \n",
       "1  POINT (-8064721.061723392 -4386524.988449218)  \n",
       "2  POINT (-7632890.656705001 -4725846.788010852)  "
      ]
     },
     "execution_count": 39,
     "metadata": {},
     "output_type": "execute_result"
    }
   ],
   "source": [
    "from shapely.geometry import Point\n",
    "\n",
    "target_crs = {'datum':'WGS84', 'no_defs':True, 'proj':'aea', 'lat_1':35, 'lat_2':55, 'lat_0':45, 'lon_0':10}\n",
    "angle_rot = 75\n",
    "center=(-98.5795,39.8283)\n",
    "\n",
    "points = gpd.GeoSeries([Point(lon,lat) for lon,lat in zip(cities_df.lon, cities_df.lat)])\n",
    "points.crs = us_state_df.crs\n",
    "points_albers = points.to_crs(target_crs).rotate(angle=angle_rot, origin=center)\n",
    "cities_df['geometry'] = points_albers\n",
    "lons, lats = [list(t) for t in zip(*map(getXY, points_albers))]\n",
    "cities_df['lon'] = lons\n",
    "cities_df['lat'] = lats\n",
    "print('cities_df rows,cols ', cities_df.shape)\n",
    "cities_df.head(3)"
   ]
  },
  {
   "cell_type": "code",
   "execution_count": 33,
   "metadata": {
    "collapsed": true
   },
   "outputs": [],
   "source": [
    "target_crs = {'datum':'WGS84', 'no_defs':True, 'proj':'aea', 'lat_1':35, 'lat_2':55, 'lat_0':45, 'lon_0':10}\n",
    "#<dataframe>.to_crs(crs=target_crs, inplace=True)"
   ]
  },
  {
   "cell_type": "code",
   "execution_count": 34,
   "metadata": {},
   "outputs": [
    {
     "data": {
      "text/plain": [
       "{'init': 'epsg:4269'}"
      ]
     },
     "execution_count": 34,
     "metadata": {},
     "output_type": "execute_result"
    }
   ],
   "source": [
    "points.crs = us_cstate_df.crs\n",
    "points.crs"
   ]
  },
  {
   "cell_type": "markdown",
   "metadata": {},
   "source": [
    "### Plot layers on state map"
   ]
  },
  {
   "cell_type": "code",
   "execution_count": 45,
   "metadata": {},
   "outputs": [
    {
     "data": {
      "image/png": "[encoded data removed]",
      "text/plain": [
       "<matplotlib.figure.Figure at 0x7f91b0206588>"
      ]
     },
     "metadata": {},
     "output_type": "display_data"
    }
   ],
   "source": [
    "fig, amap = plt.subplots(1, 1, figsize = (14,12))\n",
    "amap.set_aspect('equal')\n",
    "amap.set_axis_off()\n",
    "angle_rot = 75\n",
    "center=(-98.5795,39.8283)\n",
    "\n",
    "# State map of the continental US\n",
    "us_cstate_df.to_crs(target_crs).rotate(angle=angle_rot, origin=center).plot(ax=amap,\n",
    "                  zorder=1,\n",
    "                  linewidth = 1,\n",
    "                  facecolor=\"#EBEBEB\",\n",
    "                  edgecolor=\"white\")\n",
    "\n",
    "# Core base statistical areas with population > 1M\n",
    "cbsa_pop_large_df.to_crs(target_crs).rotate(angle=angle_rot, origin=center).plot(ax=amap,\n",
    "                  zorder=3,\n",
    "                  linewidth=0,\n",
    "                  alpha=0.6,                                                               \n",
    "                  facecolor=\"#9AB7D6\")\n",
    "\n",
    "# Core base statistical areas with population > 250k and < 1M\n",
    "cbsa_pop_medium_df.to_crs(target_crs).rotate(angle=angle_rot, origin=center).plot(ax=amap,\n",
    "                  zorder=4,                                                                \n",
    "                  linewidth=0,\n",
    "                  alpha=0.6,                                                                \n",
    "                  facecolor=\"#CFDBEB\")\n",
    "\n",
    "# Employment of 40 ecommerce workers per point by county centroid \n",
    "# The spatial coordinates have already been projected to Albers equal area\n",
    "# and rotated above .  This is so that we can use the matplotlib scatter function \n",
    "emp40_markers = [amap.scatter(lon, lat, s=40,\n",
    "                              zorder = 6,\n",
    "                              alpha=1.0,\n",
    "                              color='orange',\n",
    "                              edgecolor='white') for lon,lat,emp\n",
    "                          in zip(county_ecom40_df['lon'],\n",
    "                                 county_ecom40_df['lat'],\n",
    "                                 county_ecom40_df['EMP'])]\n",
    "\n",
    "# City markers\n",
    "points.to_crs(target_crs).rotate(angle=angle_rot, origin=center).plot(ax=amap,\n",
    "                     zorder=8,\n",
    "                     marker='o',\n",
    "                     color='black',\n",
    "                     markersize=4)\n",
    "\n",
    "# City names\n",
    "# The spatial coordinates have already been projected to Albers equal area\n",
    "# and rotated above .  This is so that we can use the matplotlib text function\n",
    "city_names = [amap.text(lon, lat, name, fontsize=10, zorder=10) for lon,lat,name\n",
    "              in zip(cities_df.lon,cities_df.lat,cities_df.name)]"
   ]
  },
  {
   "cell_type": "code",
   "execution_count": null,
   "metadata": {
    "collapsed": true
   },
   "outputs": [],
   "source": []
  }
 ],
 "metadata": {
  "kernelspec": {
   "display_name": "python geopandas",
   "language": "python",
   "name": "geopandas"
  },
  "language_info": {
   "codemirror_mode": {
    "name": "ipython",
    "version": 3
   },
   "file_extension": ".py",
   "mimetype": "text/x-python",
   "name": "python",
   "nbconvert_exporter": "python",
   "pygments_lexer": "ipython3",
   "version": "3.6.2"
  }
 },
 "nbformat": 4,
 "nbformat_minor": 2
}
